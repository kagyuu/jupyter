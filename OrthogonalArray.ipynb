{
 "cells": [
  {
   "cell_type": "code",
   "execution_count": 1,
   "metadata": {},
   "outputs": [
    {
     "name": "stderr",
     "output_type": "stream",
     "text": [
      "/Users/atsushi/.pyenv/versions/anaconda3-5.1.0/envs/jupyter-env/lib/python3.6/site-packages/h5py/__init__.py:36: FutureWarning: Conversion of the second argument of issubdtype from `float` to `np.floating` is deprecated. In future, it will be treated as `np.float64 == np.dtype(float).type`.\n",
      "  from ._conv import register_converters as _register_converters\n"
     ]
    }
   ],
   "source": [
    "import h5py\n",
    "import numpy as np\n",
    "from scipy import linalg"
   ]
  },
  {
   "cell_type": "markdown",
   "metadata": {},
   "source": [
    "# 直交表の読み出し\n",
    "* https://hondou.homedns.org/pukiwiki/index.php?Python%20HDF5 で、直交表を　numpy.ndarray 形式で HDF5 ファイルにまとめた。\n",
    "* それを読み出して使う\n",
    "* 直交表について\n",
    "$$\n",
    "L_n(q^m) = OA (n, m, q, t)\n",
    "$$\n",
    "    * n : 大きさ、テスト回数\n",
    "    * m : 因子数 = テストデータの項目数\n",
    "    * q : 水準数 = テスト項目の値の種類\n",
    "    * t : 強さ = テスト項目の組み合わせ数"
   ]
  },
  {
   "cell_type": "code",
   "execution_count": 2,
   "metadata": {
    "scrolled": false
   },
   "outputs": [
    {
     "name": "stdout",
     "output_type": "stream",
     "text": [
      "[[0 0 0]\n",
      " [0 1 1]\n",
      " [1 0 1]\n",
      " [1 1 0]]\n"
     ]
    }
   ],
   "source": [
    "    hdf5 = h5py.File(\"mypkg/oamatrix.hdf5\", 'r')\n",
    "    m=2\n",
    "    q=3\n",
    "    oa = hdf5[\"{}^{}\".format(m,q)].value\n",
    "    print(oa)\n",
    "    hdf5.close()"
   ]
  },
  {
   "cell_type": "markdown",
   "metadata": {},
   "source": [
    "# 直交表と最小自乗推定で、パラメータの寄与度を計算する"
   ]
  },
  {
   "cell_type": "code",
   "execution_count": 3,
   "metadata": {},
   "outputs": [
    {
     "name": "stdout",
     "output_type": "stream",
     "text": [
      "[[0 0 1 1]\n",
      " [0 1 0 1]\n",
      " [0 1 1 0]]\n",
      "[[1. 1. 1. 1.]]\n",
      "A=\n",
      "[[0. 0. 0. 1.]\n",
      " [0. 1. 1. 1.]\n",
      " [1. 0. 1. 1.]\n",
      " [1. 1. 0. 1.]]\n",
      "B=[10. 70. 80. 90.]\n",
      "C=[45. 35. 25. 10.]\n",
      "resid=[]\n",
      "rank=4\n",
      "sigma=[2.73205081 1.         1.         0.73205081]\n"
     ]
    }
   ],
   "source": [
    "# 直交表の最終列に、{1,1,1,1}T を追加する。　⇒ 誤差というか、嵩上げされている得点の部分\n",
    "# いったん転置して、最終行に {1,1,1,1} を付け足してから転置してもとに戻す\n",
    "m = oa.T\n",
    "fixed = np.array([np.ones(oa.shape[0])]);\n",
    "print(m)\n",
    "print (fixed)\n",
    "\n",
    "                 \n",
    "A = (np.concatenate( (m, fixed) )).T\n",
    "B = np.array([10.0,70.0,80.0,90.0])\n",
    "print (\"A=\\n{}\".format(A))\n",
    "print (\"B={}\".format(B))\n",
    "# least squares\n",
    "C, resid, rank, sigma = linalg.lstsq(A, B)\n",
    "print (\"C={}\".format(C))\n",
    "print (\"resid={}\".format(resid))\n",
    "print (\"rank={}\".format(rank))\n",
    "print (\"sigma={}\".format(sigma))\n"
   ]
  },
  {
   "cell_type": "markdown",
   "metadata": {},
   "source": [
    "# 実験計画に使える直交表"
   ]
  },
  {
   "cell_type": "code",
   "execution_count": 4,
   "metadata": {},
   "outputs": [
    {
     "name": "stdout",
     "output_type": "stream",
     "text": [
      "L4(2^3)\n",
      "[[0 0 0]\n",
      " [0 1 1]\n",
      " [1 0 1]\n",
      " [1 1 0]]\n",
      "L12(2^11)\n",
      "[[0 0 0 1 0 0 1 0 1 1 1]\n",
      " [0 0 1 0 0 1 0 1 1 1 0]\n",
      " [0 0 1 0 1 1 1 0 0 0 1]\n",
      " [0 1 0 0 1 0 1 1 1 0 0]\n",
      " [0 1 0 1 1 1 0 0 0 1 0]\n",
      " [0 1 1 1 0 0 0 1 0 0 1]\n",
      " [1 0 0 0 1 0 0 1 0 1 1]\n",
      " [1 0 0 1 0 1 1 1 0 0 0]\n",
      " [1 0 1 1 1 0 0 0 1 0 0]\n",
      " [1 1 0 0 0 1 0 0 1 0 1]\n",
      " [1 1 1 0 0 0 1 0 0 1 0]\n",
      " [1 1 1 1 1 1 1 1 1 1 1]]\n",
      "L20(2^19)\n",
      "[[0 0 0 0 1 1 0 0 1 0 0 1 1 1 1 0 1 0 1]\n",
      " [0 0 0 1 1 0 0 1 0 0 1 1 1 1 0 1 0 1 0]\n",
      " [0 0 1 0 0 1 1 1 1 0 1 0 1 0 0 0 0 1 1]\n",
      " [0 0 1 1 0 0 1 0 0 1 1 1 1 0 1 0 1 0 0]\n",
      " [0 0 1 1 1 1 0 1 0 1 0 0 0 0 1 1 0 0 1]\n",
      " [0 1 0 0 0 0 1 1 0 0 1 0 0 1 1 1 1 0 1]\n",
      " [0 1 0 0 1 1 1 1 0 1 0 1 0 0 0 0 1 1 0]\n",
      " [0 1 0 1 0 0 0 0 1 1 0 0 1 0 0 1 1 1 1]\n",
      " [0 1 1 0 0 1 0 0 1 1 1 1 0 1 0 1 0 0 0]\n",
      " [0 1 1 1 1 0 1 0 1 0 0 0 0 1 1 0 0 1 0]\n",
      " [1 0 0 0 0 1 1 0 0 1 0 0 1 1 1 1 0 1 0]\n",
      " [1 0 0 1 0 0 1 1 1 1 0 1 0 1 0 0 0 0 1]\n",
      " [1 0 0 1 1 1 1 0 1 0 1 0 0 0 0 1 1 0 0]\n",
      " [1 0 1 0 0 0 0 1 1 0 0 1 0 0 1 1 1 1 0]\n",
      " [1 0 1 0 1 0 0 0 0 1 1 0 0 1 0 0 1 1 1]\n",
      " [1 1 0 0 1 0 0 1 1 1 1 0 1 0 1 0 0 0 0]\n",
      " [1 1 0 1 0 1 0 0 0 0 1 1 0 0 1 0 0 1 1]\n",
      " [1 1 1 0 1 0 1 0 0 0 0 1 1 0 0 1 0 0 1]\n",
      " [1 1 1 1 0 1 0 1 0 0 0 0 1 1 0 0 1 0 0]\n",
      " [1 1 1 1 1 1 1 1 1 1 1 1 1 1 1 1 1 1 1]]\n",
      "L24(2^23) does not exist on my hdf5.\n",
      "L44(2^43)\n",
      "[[0 0 0 ... 1 1 1]\n",
      " [0 0 0 ... 1 1 0]\n",
      " [0 0 0 ... 1 0 0]\n",
      " ...\n",
      " [1 1 1 ... 1 0 1]\n",
      " [1 1 1 ... 1 1 0]\n",
      " [1 1 1 ... 1 1 1]]\n",
      "L60(2^59)\n",
      "[[0 0 0 ... 1 1 1]\n",
      " [0 0 0 ... 0 1 1]\n",
      " [0 0 0 ... 1 1 0]\n",
      " ...\n",
      " [1 1 1 ... 1 1 0]\n",
      " [1 1 1 ... 1 0 0]\n",
      " [1 1 1 ... 1 1 1]]\n",
      "L9(3^4)\n",
      "[[0 0 0 0]\n",
      " [0 1 2 1]\n",
      " [0 2 1 2]\n",
      " [1 0 2 2]\n",
      " [1 1 1 0]\n",
      " [1 2 0 1]\n",
      " [2 0 1 1]\n",
      " [2 1 0 2]\n",
      " [2 2 2 0]]\n",
      "L27(3^13) does not exist on my hdf5.\n",
      "L16(4^5)\n",
      "[[0 0 0 0 0]\n",
      " [0 1 1 1 1]\n",
      " [0 2 2 2 2]\n",
      " [0 3 3 3 3]\n",
      " [1 0 1 2 3]\n",
      " [1 1 0 3 2]\n",
      " [1 2 3 0 1]\n",
      " [1 3 2 1 0]\n",
      " [2 0 2 3 1]\n",
      " [2 1 3 2 0]\n",
      " [2 2 0 1 3]\n",
      " [2 3 1 0 2]\n",
      " [3 0 3 1 2]\n",
      " [3 1 2 0 3]\n",
      " [3 2 1 3 0]\n",
      " [3 3 0 2 1]]\n",
      "L64(4^21) does not exist on my hdf5.\n",
      "L25(5^6)\n",
      "[[0 0 0 0 0 0]\n",
      " [0 1 2 3 4 1]\n",
      " [0 2 4 1 3 2]\n",
      " [0 3 1 4 2 3]\n",
      " [0 4 3 2 1 4]\n",
      " [1 0 4 3 2 4]\n",
      " [1 1 1 1 1 0]\n",
      " [1 2 3 4 0 1]\n",
      " [1 3 0 2 4 2]\n",
      " [1 4 2 0 3 3]\n",
      " [2 0 3 1 4 3]\n",
      " [2 1 0 4 3 4]\n",
      " [2 2 2 2 2 0]\n",
      " [2 3 4 0 1 1]\n",
      " [2 4 1 3 0 2]\n",
      " [3 0 2 4 1 2]\n",
      " [3 1 4 2 0 3]\n",
      " [3 2 1 0 4 4]\n",
      " [3 3 3 3 3 0]\n",
      " [3 4 0 1 2 1]\n",
      " [4 0 1 2 3 1]\n",
      " [4 1 3 0 2 2]\n",
      " [4 2 0 3 1 3]\n",
      " [4 3 2 1 0 4]\n",
      " [4 4 4 4 4 0]]\n",
      "L50(5^12) does not exist on my hdf5.\n"
     ]
    }
   ],
   "source": [
    "def createOA (hdf5, n, m, q) :\n",
    "    name = \"{}^{}\".format(m,q)\n",
    "    if name in list(hdf5.keys()) :\n",
    "        oa = hdf5[name].value\n",
    "        print(\"L{}({}^{})\".format(n,m,q))\n",
    "        print(oa)\n",
    "    else :\n",
    "        print(\"L{}({}^{}) does not exist on my hdf5.\".format(n,m,q))\n",
    "\n",
    "hdf5 = h5py.File(\"mypkg/oamatrix.hdf5\", 'r')\n",
    "\n",
    "createOA(hdf5, 4,2,3)\n",
    "createOA(hdf5, 12,2,11)\n",
    "createOA(hdf5, 20,2,19)\n",
    "createOA(hdf5, 24,2,23)\n",
    "createOA(hdf5, 44,2,43)\n",
    "createOA(hdf5, 60,2,59)\n",
    "createOA(hdf5, 9,3,4)\n",
    "createOA(hdf5, 27,3,13)\n",
    "createOA(hdf5, 16,4,5)\n",
    "createOA(hdf5, 64,4,21)\n",
    "createOA(hdf5, 25,5,6)\n",
    "createOA(hdf5, 50,5,12)\n",
    "\n",
    "hdf5.close()\n"
   ]
  },
  {
   "cell_type": "code",
   "execution_count": null,
   "metadata": {},
   "outputs": [],
   "source": []
  }
 ],
 "metadata": {
  "kernelspec": {
   "display_name": "Python 3",
   "language": "python",
   "name": "python3"
  },
  "language_info": {
   "codemirror_mode": {
    "name": "ipython",
    "version": 3
   },
   "file_extension": ".py",
   "mimetype": "text/x-python",
   "name": "python",
   "nbconvert_exporter": "python",
   "pygments_lexer": "ipython3",
   "version": "3.6.5"
  }
 },
 "nbformat": 4,
 "nbformat_minor": 1
}
