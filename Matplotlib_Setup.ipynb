{
 "cells": [
  {
   "cell_type": "code",
   "execution_count": 1,
   "metadata": {},
   "outputs": [],
   "source": [
    "import os\n",
    "import re\n",
    "import shutil\n",
    "import matplotlib as mpl\n",
    "import matplotlib.pyplot as plt\n",
    "import numpy as np"
   ]
  },
  {
   "cell_type": "markdown",
   "metadata": {},
   "source": [
    "# 日本語フォントのインストール\n",
    "\n",
    "* IPAex フォントをインストールする https://ipafont.ipa.go.jp/\n",
    "* 他の日本語フォントでもいいんだけど macOS/ubuntu/Windows での相互運用を考えると IPAex が無難かな\n",
    "* インストール方法は配布元に手順が書いてある\n",
    "* どうしても IPAex フォントを OS にインストールしたくない場合は、Matplotlibのインストールディレクトリ (../lib/site-packages/matplotlib/mpl-data/fonts/ttf/) に ttf ファイルを置いてもいい"
   ]
  },
  {
   "cell_type": "markdown",
   "metadata": {},
   "source": [
    "# 設定ファイル matplotlibrc のコピー\n",
    "* matplotlib に日本語フォントを設定する\n",
    "* プログラム中で明示的に設定することもできるが、設定ファイル matplotlibrc に設定するのが定石\n",
    "* matplotlibrc　の優先順位\n",
    "\n",
    "    1. カレントディレクトリ\n",
    "    1. HOMEディレクトリ (~/.matplotlib)\n",
    "    1. Matplotlibのインストールディレクトリ (../lib/site-packages/matplotlib/mpl-data/matplotlibrc)\n",
    "\n",
    "* インストールディレクトリにある matplotlibrc をカレントディレクトリにコピーして、フォント設定を変更するのが (環境の再現性の点で) よかろう"
   ]
  },
  {
   "cell_type": "code",
   "execution_count": 2,
   "metadata": {},
   "outputs": [
    {
     "name": "stdout",
     "output_type": "stream",
     "text": [
      "1 Current Dir : /Users/atsushi/PycharmProjects/jupyter\n",
      "2 HOME    Dir : /Users/atsushi/.matplotlib\n",
      "Active matplotlibrc  : /Users/atsushi/PycharmProjects/jupyter/matplotlibrc\n",
      "Already exsists. do nothing : /Users/atsushi/PycharmProjects/jupyter/matplotlibrc\n"
     ]
    }
   ],
   "source": [
    "currentdir = %pwd\n",
    "print(\"1 Current Dir : {}\".format(currentdir))\n",
    "print(\"2 HOME    Dir : {}\".format(mpl.get_configdir()))\n",
    "print(\"Active matplotlibrc  : {}\".format(mpl.matplotlib_fname()))\n",
    "\n",
    "local_settings = os.path.join(currentdir, \"matplotlibrc\")\n",
    "if not os.path.exists(local_settings) :\n",
    "    shutil.copyfile(mpl.matplotlib_fname(), local_settings)\n",
    "    print(\"Created : {}\".format(local_settings))\n",
    "else :\n",
    "    print(\"Already exsists. do nothing : {}\".format(local_settings))\n",
    "    "
   ]
  },
  {
   "cell_type": "markdown",
   "metadata": {},
   "source": [
    "# 設定ファイル matplotlibrc に IPAexGothic を追加\n",
    "* font.family : IPAexGothic を　matplotlibrc に追記する"
   ]
  },
  {
   "cell_type": "code",
   "execution_count": 3,
   "metadata": {},
   "outputs": [
    {
     "name": "stdout",
     "output_type": "stream",
     "text": [
      "\"font.family : IPAexGothic\" was already written. Do nothing.\n"
     ]
    }
   ],
   "source": [
    "fin = open(local_settings)\n",
    "lines = fin.readlines()\n",
    "fin.close()\n",
    "\n",
    "have_to_update = True\n",
    "for line in lines :\n",
    "    if re.match(\"font.family[ ]+:[ ]+IPAexGothic\", line) :\n",
    "        print (\"\\\"{}\\\" was already written. Do nothing.\".format(line.strip()))\n",
    "        have_to_update = False\n",
    "        break\n",
    "\n",
    "if have_to_update :\n",
    "    with open(local_settings, mode=\"w\") as fout :\n",
    "        for line in lines :\n",
    "            if re.match(\"#[ ]*font.family[ ]+:[ ]+.*\", line) :\n",
    "                fout.write(\"font.family : IPAexGothic\\n\")\n",
    "                print (\"\\\"font.family : IPAexGothic\\\" was added before \\\"{}\\\"\".format(line.strip()))\n",
    "            \n",
    "            fout.write(line)\n",
    "        \n"
   ]
  },
  {
   "cell_type": "markdown",
   "metadata": {},
   "source": [
    "# matplotlib のフォントキャッシュを削除\n",
    "* ~/.matplotlib/fontList.json を削除する"
   ]
  },
  {
   "cell_type": "code",
   "execution_count": 4,
   "metadata": {},
   "outputs": [],
   "source": [
    "font_list = os.path.join(mpl.get_configdir(), \"fontList.json\")\n",
    "if os.path.exists(font_list) :\n",
    "    os.remove(font_list)"
   ]
  },
  {
   "cell_type": "markdown",
   "metadata": {},
   "source": [
    "# 設定の確認のため日本語が含まれるグラフを描画する"
   ]
  },
  {
   "cell_type": "code",
   "execution_count": 5,
   "metadata": {
    "scrolled": true
   },
   "outputs": [
    {
     "data": {
      "image/png": "[encoded data removed]",
      "text/plain": [
       "<Figure size 432x288 with 1 Axes>"
      ]
     },
     "metadata": {},
     "output_type": "display_data"
    }
   ],
   "source": [
    "t = np.arange(0, 2 * np.pi, 0.1)\n",
    "x = np.power(np.sin(t), 3);\n",
    "y = 1.0 + 0.8125 * np.cos(t) - 0.3125 * np.cos(2 * t) - 0.125 * np.cos(3*t) - 0.0625 * np.cos(4*t)\n",
    "\n",
    "plt.plot(x, y)\n",
    "plt.xlabel(\"X軸\")\n",
    "plt.ylabel(\"Y軸\")\n",
    "plt.title(\"作品 2812. ハート\")\n",
    "plt.show()"
   ]
  },
  {
   "cell_type": "code",
   "execution_count": null,
   "metadata": {},
   "outputs": [],
   "source": []
  }
 ],
 "metadata": {
  "kernelspec": {
   "display_name": "Python 3",
   "language": "python",
   "name": "python3"
  },
  "language_info": {
   "codemirror_mode": {
    "name": "ipython",
    "version": 3
   },
   "file_extension": ".py",
   "mimetype": "text/x-python",
   "name": "python",
   "nbconvert_exporter": "python",
   "pygments_lexer": "ipython3",
   "version": "3.6.5"
  }
 },
 "nbformat": 4,
 "nbformat_minor": 2
}
