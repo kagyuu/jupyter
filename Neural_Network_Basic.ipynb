{
 "cells": [
  {
   "cell_type": "code",
   "execution_count": 1,
   "metadata": {},
   "outputs": [],
   "source": [
    "import numpy as np\n",
    "import matplotlib.pyplot as plt"
   ]
  },
  {
   "cell_type": "markdown",
   "metadata": {},
   "source": [
    "# シグモイド関数"
   ]
  },
  {
   "cell_type": "code",
   "execution_count": 2,
   "metadata": {},
   "outputs": [
    {
     "data": {
      "image/png": "[encoded data removed]",
      "text/plain": [
       "<Figure size 432x288 with 1 Axes>"
      ]
     },
     "metadata": {},
     "output_type": "display_data"
    }
   ],
   "source": [
    "def sigmoid(x) :\n",
    "    return 1.0 / (1.0 + np.exp(-1.0 * x))\n",
    "\n",
    "x = np.arange(-10,10,0.1)\n",
    "y = sigmoid(x)\n",
    "\n",
    "plt.plot(x, y)\n",
    "plt.ylabel(\"sigmoid(x)\")\n",
    "plt.title(\"Sigmoid\")\n",
    "plt.grid(True)\n",
    "plt.show()"
   ]
  },
  {
   "cell_type": "markdown",
   "metadata": {},
   "source": [
    "# ReLu関数"
   ]
  },
  {
   "cell_type": "code",
   "execution_count": 3,
   "metadata": {},
   "outputs": [
    {
     "data": {
      "image/png": "[encoded data removed]",
      "text/plain": [
       "<Figure size 432x288 with 1 Axes>"
      ]
     },
     "metadata": {},
     "output_type": "display_data"
    }
   ],
   "source": [
    "def relu(x) :\n",
    "    return np.maximum(0, x)\n",
    "\n",
    "x = np.arange(-10,10,0.1)\n",
    "y = relu(x)\n",
    "\n",
    "plt.plot(x, y)\n",
    "plt.ylabel(\"relu(x)\")\n",
    "plt.title(\"ReLu\")\n",
    "plt.grid(True)\n",
    "plt.show()"
   ]
  },
  {
   "cell_type": "markdown",
   "metadata": {},
   "source": [
    "# 順伝搬ネットワークを作る\n",
    "* 順伝搬の概要\n",
    "```\n",
    "[入力 x] → [伝搬] → [出力（確率) ]\n",
    "```\n",
    "* 入力\n",
    "$$\n",
    "\\begin{bmatrix}\n",
    "x_1 \\\\\n",
    "x_2\n",
    "\\end{bmatrix}\n",
    "$$\n",
    "* 伝搬\n",
    "$$\n",
    "\\begin{bmatrix}\n",
    "u_{1} \\\\\n",
    "u_{2}\n",
    "\\end{bmatrix}\n",
    "=\n",
    "\\begin{bmatrix}\n",
    "w_{11} & w_{12} \\\\\n",
    "w_{21} & w_{22}\n",
    "\\end{bmatrix}\n",
    "\\begin{bmatrix}\n",
    "x_1 \\\\\n",
    "x_2\n",
    "\\end{bmatrix}\n",
    "+\n",
    "\\begin{bmatrix}\n",
    "b_{1} \\\\\n",
    "b_{2}\n",
    "\\end{bmatrix}\n",
    "$$\n",
    "* 出力 (確率)\n",
    "$$\n",
    "\\begin{bmatrix}\n",
    "y_{1} \\\\\n",
    "y_{2}\n",
    "\\end{bmatrix}\n",
    "=\n",
    "\\begin{bmatrix}\n",
    "f(u_{1}) \\\\\n",
    "f(u_{2})\n",
    "\\end{bmatrix}\n",
    ")\n",
    "$$\n",
    "f : relu など"
   ]
  },
  {
   "cell_type": "code",
   "execution_count": 4,
   "metadata": {},
   "outputs": [
    {
     "name": "stdout",
     "output_type": "stream",
     "text": [
      "layer[0] (2 -> 5)\n",
      "W=\n",
      "[[0.95771941 0.18986048]\n",
      " [0.32983606 0.35645814]\n",
      " [0.1063038  0.63591694]\n",
      " [0.7933482  0.51509166]\n",
      " [0.08207668 0.19505767]] \n",
      "b=\n",
      "[[0.47837713]\n",
      " [0.58749318]\n",
      " [0.34299986]\n",
      " [0.0748261 ]\n",
      " [0.59574966]]\n",
      "layer[1] (5 -> 1)\n",
      "W=\n",
      "[[0.7672056  0.60245074 0.5756283  0.79331635 0.05396692]] \n",
      "b=\n",
      "[[0.25944252]]\n"
     ]
    }
   ],
   "source": [
    "def create_layer(in_size, out_size) :\n",
    "    w = np.random.rand(out_size, in_size)\n",
    "    b = np.random.rand(out_size,1)\n",
    "    return w,b\n",
    "\n",
    "def create_network(*units) :\n",
    "    w_lst = []\n",
    "    b_lst = []\n",
    "    for layer in range(0, len(units) - 1) :\n",
    "        in_size = units[layer]\n",
    "        out_size = units[layer+1]\n",
    "        w,b = create_layer(in_size, out_size)\n",
    "        print(\"layer[{}] ({} -> {})\\nW=\\n{} \\nb=\\n{}\".format(layer, in_size, out_size, w, b))\n",
    "        w_lst.append(w)\n",
    "        b_lst.append(b)\n",
    "    return w_lst, b_lst\n",
    "    \n",
    "w,b = create_network(2,5,1)"
   ]
  },
  {
   "cell_type": "markdown",
   "metadata": {},
   "source": [
    "# 順伝搬"
   ]
  },
  {
   "cell_type": "code",
   "execution_count": 8,
   "metadata": {},
   "outputs": [
    {
     "name": "stdout",
     "output_type": "stream",
     "text": [
      "[[1. 2.]]\n",
      "[[1.81581751 1.63024553 1.72113753 1.89835762 1.06794168]]\n",
      "[[5.18905765]]\n",
      "y=\n",
      "[[0.99445367]]\n"
     ]
    }
   ],
   "source": [
    "def forward(x,w,b) :\n",
    "    z = x\n",
    "    for layer in range(0, len(w)) :\n",
    "        print(z.T)\n",
    "        u = w[layer].dot(z) + b[layer]\n",
    "        z = relu(u)\n",
    "    print(z.T)\n",
    "    y = sigmoid(u)\n",
    "    return y\n",
    "\n",
    "x = np.array([\n",
    "    [1.0],\n",
    "    [2.0]])\n",
    "\n",
    "y = forward(x,w,b)\n",
    "\n",
    "print(\"y=\\n{}\".format(y))"
   ]
  },
  {
   "cell_type": "markdown",
   "metadata": {},
   "source": [
    "# 逆伝搬\n",
    "* 順伝搬で何かの起きる予測確率は 0.73。しかし教師データ上は何かが起きているので y1 が 1.00　に近づくように w と b　を調整したい\n",
    "* どうすれば y0 が選ばれるようになるか？ → y が\n",
    "$$\n",
    "t = \n",
    "\\begin{bmatrix}\n",
    "1.0 \\\\\n",
    "0.0\n",
    "\\end{bmatrix}\n",
    "$$\n",
    "を出力するような w と b だったらよかった\n",
    "* 正解値と出力値の誤差関数を定義して、その値が小さくなるように w,b を調整していく\n",
    "$$\n",
    "E(w,b) =  \\frac{1}{2}  \\sum_k (y_k - t_k)^2\n",
    "$$\n",
    "$$\n",
    "E(w,b) \\rightarrow min\n",
    "$$\n",
    "* 勾配降下法\n",
    "$$\n",
    "w = w -  \\frac{\\partial E}{\\partial w} \n",
    "$$\n",
    "    * w を増やしたら E が増えた → E を減らしたいので w を減らそう\n",
    "    * w を増やしたら E が減った → E を減らしたいので w を増やそう\n",
    "    * 偏微分の連鎖律より\n",
    "$$\n",
    "w = w -  \\frac{\\partial E}{\\partial w} = w -  \\frac{\\partial E}{\\partial y} \\frac{\\partial y}{\\partial u} \\frac{\\partial u}{\\partial w} \n",
    "$$\n",
    "$$\n",
    "\\frac{\\partial E}{\\partial y} = \\sum_k (y_k - t_k)\n",
    "$$\n",
    "$$\n",
    "\\frac{\\partial y}{\\partial u} = \\frac{\\partial \\sigma (u)}{\\partial u} = (1 - \\sigma (u)) \\sigma (u)\n",
    "$$"
   ]
  },
  {
   "cell_type": "code",
   "execution_count": 6,
   "metadata": {},
   "outputs": [
    {
     "name": "stdout",
     "output_type": "stream",
     "text": [
      "0.49448443495299144\n"
     ]
    }
   ],
   "source": [
    "t = np.array([\n",
    "    [1.0],\n",
    "    [0.0]])\n",
    "\n",
    "def mean_squared_error(y,t) :\n",
    "    return 0.5 * np.sum((y - t) ** 2)\n",
    "\n",
    "e = mean_squared_error(y,t)\n",
    "print(e)"
   ]
  },
  {
   "cell_type": "code",
   "execution_count": null,
   "metadata": {},
   "outputs": [],
   "source": []
  }
 ],
 "metadata": {
  "kernelspec": {
   "display_name": "Python 3",
   "language": "python",
   "name": "python3"
  },
  "language_info": {
   "codemirror_mode": {
    "name": "ipython",
    "version": 3
   },
   "file_extension": ".py",
   "mimetype": "text/x-python",
   "name": "python",
   "nbconvert_exporter": "python",
   "pygments_lexer": "ipython3",
   "version": "3.6.5"
  }
 },
 "nbformat": 4,
 "nbformat_minor": 2
}
