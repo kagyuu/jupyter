{
 "cells": [
  {
   "cell_type": "code",
   "execution_count": 1,
   "metadata": {},
   "outputs": [],
   "source": [
    "import numpy as np\n",
    "import matplotlib.pyplot as plt"
   ]
  },
  {
   "cell_type": "markdown",
   "metadata": {},
   "source": [
    "# シグモイド関数"
   ]
  },
  {
   "cell_type": "code",
   "execution_count": 2,
   "metadata": {},
   "outputs": [
    {
     "data": {
      "image/png": "[encoded data removed]",
      "text/plain": [
       "<Figure size 432x288 with 1 Axes>"
      ]
     },
     "metadata": {},
     "output_type": "display_data"
    }
   ],
   "source": [
    "def sigmoid(x) :\n",
    "    return 1.0 / (1.0 + np.exp(-1.0 * x))\n",
    "\n",
    "x = np.arange(-10,10,0.1)\n",
    "y = sigmoid(x)\n",
    "\n",
    "plt.plot(x, y)\n",
    "plt.ylabel(\"sigmoid(x)\")\n",
    "plt.title(\"Sigmoid\")\n",
    "plt.grid(True)\n",
    "plt.show()"
   ]
  },
  {
   "cell_type": "markdown",
   "metadata": {},
   "source": [
    "# 順伝搬\n",
    "* 順伝搬の概要\n",
    "```\n",
    "[入力 x] → [伝搬] → [出力（確率) y]\n",
    "```\n",
    "* 入力\n",
    "$$\n",
    "\\begin{bmatrix}\n",
    "x_1 \\\\\n",
    "x_2\n",
    "\\end{bmatrix}\n",
    "$$\n",
    "* 伝搬\n",
    "$$\n",
    "\\begin{bmatrix}\n",
    "u_{1} \\\\\n",
    "u_{2}\n",
    "\\end{bmatrix}\n",
    "=\n",
    "\\begin{bmatrix}\n",
    "w_{11} & w_{12} \\\\\n",
    "w_{21} & w_{22}\n",
    "\\end{bmatrix}\n",
    "\\begin{bmatrix}\n",
    "x_1 \\\\\n",
    "x_2\n",
    "\\end{bmatrix}\n",
    "+\n",
    "\\begin{bmatrix}\n",
    "b_{1} \\\\\n",
    "b_{2}\n",
    "\\end{bmatrix}\n",
    "$$\n",
    "* 出力 (確率)\n",
    "$$\n",
    "\\begin{bmatrix}\n",
    "y_{1} \\\\\n",
    "y_{2}\n",
    "\\end{bmatrix}\n",
    "=\n",
    "f(\n",
    "\\begin{bmatrix}\n",
    "u_{1} \\\\\n",
    "u_{2}\n",
    "\\end{bmatrix}\n",
    ")\n",
    "$$\n",
    "* 確率の最も大きなクラスを選ぶ\n",
    "\n",
    "\n"
   ]
  },
  {
   "cell_type": "code",
   "execution_count": 3,
   "metadata": {},
   "outputs": [
    {
     "name": "stdout",
     "output_type": "stream",
     "text": [
      "u=\n",
      "[[1. ]\n",
      " [1.7]]\n",
      "y=\n",
      "[[0.73105858]\n",
      " [0.84553473]]\n",
      "decision=#1 (probability [0.84553473])\n"
     ]
    }
   ],
   "source": [
    "w = np.array([\n",
    "    [0.1,0.2],\n",
    "    [0.3,0.4]])\n",
    "x = np.array([\n",
    "    [1.0],\n",
    "    [2.0]])\n",
    "b = np.array([\n",
    "    [0.5],\n",
    "    [0.6]])\n",
    "u = w.dot(x) + b\n",
    "\n",
    "print(\"u=\\n{}\".format(u))\n",
    "\n",
    "# wow! python is great.\n",
    "y = sigmoid(u)\n",
    "\n",
    "print(\"y=\\n{}\".format(y))\n",
    "\n",
    "# select max element in y-array\n",
    "print(\"decision=#{} (probability {})\".format(np.argmax(y), y[np.argmax(y)]))\n"
   ]
  },
  {
   "cell_type": "markdown",
   "metadata": {},
   "source": [
    "# 逆伝搬\n",
    "* 逆伝搬で計算した　Y のうち、最も確率の大きな y1を正解として選んだけど、本当は y0 が正解だったとする\n",
    "* どうすれば y0 が選ばれるようになるか？ → y が\n",
    "$$\n",
    "t = \n",
    "\\begin{bmatrix}\n",
    "1.0 \\\\\n",
    "0.0\n",
    "\\end{bmatrix}\n",
    "$$\n",
    "を出力するような w と b だったらよかった\n",
    "* 正解値と出力値の誤差関数を定義して、その値が小さくなるように w,b を調整していく\n",
    "$$\n",
    "E(w,b) =  \\frac{1}{2}  \\sum_k (y_k - t_k)^2\n",
    "$$\n",
    "$$\n",
    "E(w,b) \\rightarrow min\n",
    "$$\n",
    "* 勾配降下法\n",
    "$$\n",
    "w = w -  \\frac{\\partial E}{\\partial w} \n",
    "$$\n",
    "    * w を増やしたら E が増えた → E を減らしたいので w を減らそう\n",
    "    * w を増やしたら E が減った → E を減らしたいので w を増やそう\n",
    "    * 偏微分の連鎖律より\n",
    "$$\n",
    "w = w -  \\frac{\\partial E}{\\partial w} = w -  \\frac{\\partial E}{\\partial y} \\frac{\\partial y}{\\partial u} \\frac{\\partial u}{\\partial w} \n",
    "$$\n",
    "$$\n",
    "\\frac{\\partial E}{\\partial y} = \\sum_k (y_k - t_k)\n",
    "$$\n",
    "$$\n",
    "\\frac{\\partial y}{\\partial u} = \\frac{\\partial \\sigma (u)}{\\partial u} = (1 - \\sigma (u)) \\sigma (u)\n",
    "$$"
   ]
  },
  {
   "cell_type": "code",
   "execution_count": 5,
   "metadata": {},
   "outputs": [
    {
     "name": "stdout",
     "output_type": "stream",
     "text": [
      "0.3936292380393852\n"
     ]
    }
   ],
   "source": [
    "t = np.array([\n",
    "    [1.0],\n",
    "    [0.0]])\n",
    "\n",
    "def mean_squared_error(y,t) :\n",
    "    return 0.5 * np.sum((y - t) ** 2)\n",
    "\n",
    "e = mean_squared_error(y,t)\n",
    "print(e)"
   ]
  },
  {
   "cell_type": "code",
   "execution_count": null,
   "metadata": {},
   "outputs": [],
   "source": []
  }
 ],
 "metadata": {
  "kernelspec": {
   "display_name": "Python 3",
   "language": "python",
   "name": "python3"
  },
  "language_info": {
   "codemirror_mode": {
    "name": "ipython",
    "version": 3
   },
   "file_extension": ".py",
   "mimetype": "text/x-python",
   "name": "python",
   "nbconvert_exporter": "python",
   "pygments_lexer": "ipython3",
   "version": "3.6.5"
  }
 },
 "nbformat": 4,
 "nbformat_minor": 2
}
