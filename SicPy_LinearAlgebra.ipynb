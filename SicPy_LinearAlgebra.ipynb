{
 "cells": [
  {
   "cell_type": "code",
   "execution_count": 1,
   "metadata": {},
   "outputs": [],
   "source": [
    "import numpy as np\n",
    "from scipy import linalg"
   ]
  },
  {
   "cell_type": "markdown",
   "metadata": {},
   "source": [
    "# 逆行列\n",
    "* 行列式を求める linalg.det(A)\n",
    "* 逆行列を求める linalg.inv(A)\n",
    "    * 逆行列を求められない時 LinAlgError が発生する"
   ]
  },
  {
   "cell_type": "code",
   "execution_count": 2,
   "metadata": {
    "scrolled": true
   },
   "outputs": [
    {
     "name": "stdout",
     "output_type": "stream",
     "text": [
      "A=\n",
      "[[1. 2. 3.]\n",
      " [9. 4. 3.]\n",
      " [5. 8. 1.]]\n",
      "det(A) = 148.0\n",
      "inverse A=\n",
      "[[-0.13513514  0.14864865 -0.04054054]\n",
      " [ 0.04054054 -0.09459459  0.16216216]\n",
      " [ 0.35135135  0.01351351 -0.09459459]]\n",
      "A・inverseA=\n",
      "[[ 1.00000000e+00 -2.25514052e-17  2.77555756e-17]\n",
      " [ 1.66533454e-16  1.00000000e+00  1.38777878e-16]\n",
      " [ 5.55111512e-17 -8.15320034e-17  1.00000000e+00]]\n"
     ]
    }
   ],
   "source": [
    "A = np.array([[1,2,3],[9,4,3],[5,8,1]], dtype=float)\n",
    "print(\"A=\\n{}\".format(A))\n",
    "print(\"det(A) = {}\".format(linalg.det(A)))\n",
    "B = linalg.inv(A)\n",
    "print(\"inverse A=\\n{}\".format(B))\n",
    "print(\"A・inverseA=\\n{}\".format(np.dot(A,B)))"
   ]
  },
  {
   "cell_type": "markdown",
   "metadata": {},
   "source": [
    "逆行列が存在しない時に　LinAlgError が発生する仕様は、あまり信用しないほうが良いかも\n",
    "$$\n",
    "\\begin{bmatrix}\n",
    "1 & 2 & 3 \\\\ 4 & 5 & 6 \\\\ 7 & 8 & 9 \n",
    "\\end{bmatrix} \n",
    "$$\n",
    "は、逆行列が存在しないけど、LinAlgError が発生せずに誤った逆行列が計算される。当然 M・inv(M) は I(単位行列) にならない"
   ]
  },
  {
   "cell_type": "code",
   "execution_count": 3,
   "metadata": {},
   "outputs": [
    {
     "name": "stdout",
     "output_type": "stream",
     "text": [
      "M=\n",
      "[[1. 2. 3.]\n",
      " [4. 5. 6.]\n",
      " [7. 8. 9.]]\n",
      "det(M) = 0.0\n",
      "inverse M=\n",
      "[[ 3.15251974e+15 -6.30503948e+15  3.15251974e+15]\n",
      " [-6.30503948e+15  1.26100790e+16 -6.30503948e+15]\n",
      " [ 3.15251974e+15 -6.30503948e+15  3.15251974e+15]]\n",
      "** linalg.inv(M) don't throw LinAlgError **\n",
      "M・inverseM=\n",
      "[[ 0.  1.  0.]\n",
      " [-4.  2.  0.]\n",
      " [-4.  3.  2.]]\n"
     ]
    }
   ],
   "source": [
    "M = np.array([[1,2,3],[4,5,6],[7,8,9]], dtype=float)\n",
    "print(\"M=\\n{}\".format(M))\n",
    "print(\"det(M) = {}\".format(linalg.det(M)))\n",
    "try :\n",
    "    print(\"(wrong) inverse M=\\n{}\".format(linalg.inv(M)))\n",
    "    print(\"** linalg.inv(M) don't throw LinAlgError **\")\n",
    "except LinAlgError as err:\n",
    "    print(err)\n",
    "print(\"M・inverseM= // it's not unit matrix \\n{}\".format(np.dot(M,linalg.inv(M))))"
   ]
  },
  {
   "cell_type": "code",
   "execution_count": null,
   "metadata": {},
   "outputs": [],
   "source": []
  }
 ],
 "metadata": {
  "kernelspec": {
   "display_name": "Python 3",
   "language": "python",
   "name": "python3"
  },
  "language_info": {
   "codemirror_mode": {
    "name": "ipython",
    "version": 3
   },
   "file_extension": ".py",
   "mimetype": "text/x-python",
   "name": "python",
   "nbconvert_exporter": "python",
   "pygments_lexer": "ipython3",
   "version": "3.6.5"
  }
 },
 "nbformat": 4,
 "nbformat_minor": 2
}
