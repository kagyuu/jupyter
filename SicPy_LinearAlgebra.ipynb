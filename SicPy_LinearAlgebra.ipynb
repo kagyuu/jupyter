{
 "cells": [
  {
   "cell_type": "code",
   "execution_count": 2,
   "metadata": {},
   "outputs": [],
   "source": [
    "import math\n",
    "import numpy as np\n",
    "from scipy import linalg\n",
    "from matplotlib import pyplot as plt"
   ]
  },
  {
   "cell_type": "markdown",
   "metadata": {},
   "source": [
    "# 逆行列\n",
    "* 行列式を求める linalg.det(A)\n",
    "* 逆行列を求める linalg.inv(A)\n",
    "    * 逆行列を求められない時 LinAlgError が発生する"
   ]
  },
  {
   "cell_type": "code",
   "execution_count": 2,
   "metadata": {
    "scrolled": true
   },
   "outputs": [
    {
     "name": "stdout",
     "output_type": "stream",
     "text": [
      "A=\n",
      "[[1. 2. 3.]\n",
      " [9. 4. 3.]\n",
      " [5. 8. 1.]]\n",
      "det(A) = 148.0\n",
      "inverse A=\n",
      "[[-0.13513514  0.14864865 -0.04054054]\n",
      " [ 0.04054054 -0.09459459  0.16216216]\n",
      " [ 0.35135135  0.01351351 -0.09459459]]\n",
      "A・inverseA=\n",
      "[[ 1.00000000e+00 -2.25514052e-17  2.77555756e-17]\n",
      " [ 1.66533454e-16  1.00000000e+00  1.38777878e-16]\n",
      " [ 5.55111512e-17 -8.15320034e-17  1.00000000e+00]]\n"
     ]
    }
   ],
   "source": [
    "A = np.array([[1,2,3],[9,4,3],[5,8,1]], dtype=float)\n",
    "print(\"A=\\n{}\".format(A))\n",
    "print(\"det(A) = {}\".format(linalg.det(A)))\n",
    "B = linalg.inv(A)\n",
    "print(\"inverse A=\\n{}\".format(B))\n",
    "print(\"A・inverseA=\\n{}\".format(np.dot(A,B)))"
   ]
  },
  {
   "cell_type": "markdown",
   "metadata": {},
   "source": [
    "逆行列が存在しない時に　LinAlgError が発生する仕様は、あまり信用しないほうが良いかも\n",
    "$$\n",
    "\\begin{bmatrix}\n",
    "1 & 2 & 3 \\\\ 4 & 5 & 6 \\\\ 7 & 8 & 9 \n",
    "\\end{bmatrix} \n",
    "$$\n",
    "は、逆行列が存在しないけど、LinAlgError が発生せずに誤った逆行列が計算される。当然 M・inv(M) は I(単位行列) にならない"
   ]
  },
  {
   "cell_type": "code",
   "execution_count": 3,
   "metadata": {},
   "outputs": [
    {
     "name": "stdout",
     "output_type": "stream",
     "text": [
      "M=\n",
      "[[1. 2. 3.]\n",
      " [4. 5. 6.]\n",
      " [7. 8. 9.]]\n",
      "det(M) = 0.0\n",
      "inverse M= // it's wrong invert matrix \n",
      "[[ 3.15251974e+15 -6.30503948e+15  3.15251974e+15]\n",
      " [-6.30503948e+15  1.26100790e+16 -6.30503948e+15]\n",
      " [ 3.15251974e+15 -6.30503948e+15  3.15251974e+15]]\n",
      "** linalg.inv(M) don't throw LinAlgError **\n",
      "M・inverseM= // it's not an identity matrix \n",
      "[[ 0.  1.  0.]\n",
      " [-4.  2.  0.]\n",
      " [-4.  3.  2.]]\n"
     ]
    }
   ],
   "source": [
    "M = np.array([[1,2,3],[4,5,6],[7,8,9]], dtype=float)\n",
    "print(\"M=\\n{}\".format(M))\n",
    "print(\"det(M) = {}\".format(linalg.det(M)))\n",
    "try :\n",
    "    print(\"inverse M= // it's wrong invert matrix \\n{}\".format(linalg.inv(M)))\n",
    "    print(\"** linalg.inv(M) don't throw LinAlgError **\")\n",
    "except LinAlgError as err:\n",
    "    print(err)\n",
    "print(\"M・inverseM= // it's not an identity matrix \\n{}\".format(np.dot(M,linalg.inv(M))))"
   ]
  },
  {
   "cell_type": "markdown",
   "metadata": {},
   "source": [
    "# ノルム\n",
    "* 2次元、３次元の場合は、ベクトルの長さ\n",
    "* 行列の場合はその拡張"
   ]
  },
  {
   "cell_type": "code",
   "execution_count": 4,
   "metadata": {},
   "outputs": [
    {
     "name": "stdout",
     "output_type": "stream",
     "text": [
      "linalg.norm(np.array([2,3]))=3.605551275463989 , sqr(2*2+3*3)=3.605551275463989\n",
      "M=\n",
      "[[1. 2. 3.]\n",
      " [4. 5. 6.]\n",
      " [7. 8. 9.]]\n",
      "linalg.norm(M)=16.881943016134134\n"
     ]
    }
   ],
   "source": [
    "v = np.array([2.0,3.0])\n",
    "print(\"linalg.norm(np.array([2,3]))={} , sqr(2*2+3*3)={}\".format(linalg.norm(v), math.sqrt(2.0*2.0+3.0*3.0)))\n",
    "print(\"M=\\n{}\".format(M))\n",
    "print(\"linalg.norm(M)={}\".format(linalg.norm(M)))"
   ]
  },
  {
   "cell_type": "markdown",
   "metadata": {},
   "source": [
    "# 最小二乗推定 (least-squares problems)\n",
    "* scipy.lstsq(A,B) は、 y = a f(x) + b g(x) + c h(x) + d のとき、最も誤差の少ない a,b,c,d をもとめる\n",
    "\n",
    "A には、入力パラメータを設定する\n",
    "$$\n",
    " \\begin{bmatrix}\n",
    "f(0) & g(0) & h(0) & 1 \\\\\n",
    "f(1) & g(1) & h(1) & 1 \\\\\n",
    "f(2) & g(2) & h(2) & 1 \\\\\n",
    "f(3) & g(3) & h(3) & 1 \\\\\n",
    "\\vdots & \\vdots & \\vdots & \\vdots \\\\\n",
    "f(n) & g(n) & h(n) & 1 \\\\\n",
    "\\end{bmatrix} \n",
    "$$\n",
    "\n",
    "B には、y を設定する\n",
    "$$\n",
    " \\begin{bmatrix} y_0 & y_1 & y_2 & y_3 & \\cdots  & y_n \\end{bmatrix} \n",
    "$$    \n",
    "\n",
    "``\n",
    "(C, resid, rank, sigma) = linalg.lstsq(A, B)\n",
    "``\n",
    "    * C : 最小二乗解 [a b c d]\n",
    "    * resid : 残差の合計\n",
    "    * rank : 係数行列aのランク\n",
    "    * sigma :  標準偏差"
   ]
  },
  {
   "cell_type": "code",
   "execution_count": 5,
   "metadata": {},
   "outputs": [
    {
     "name": "stdout",
     "output_type": "stream",
     "text": [
      "A=\n",
      "[[0.    0.    0.    1.   ]\n",
      " [0.001 0.01  0.1   1.   ]\n",
      " [0.008 0.04  0.2   1.   ]\n",
      " [0.027 0.09  0.3   1.   ]\n",
      " [0.064 0.16  0.4   1.   ]\n",
      " [0.216 0.36  0.6   1.   ]\n",
      " [0.512 0.64  0.8   1.   ]\n",
      " [1.    1.    1.    1.   ]]\n",
      "B=[5.2 4.  3.  3.8 4.4 5.4 6.6 6.8]\n",
      "C=[-22.95848104  39.20132617 -14.58099132   5.07255296]\n",
      "resid=0.5042085946678523\n",
      "rank=4\n",
      "sigma=[3.35026362 1.3730288  0.27820942 0.03761781]\n"
     ]
    },
    {
     "data": {
      "image/png": "[encoded data removed]",
      "text/plain": [
       "<Figure size 432x288 with 1 Axes>"
      ]
     },
     "metadata": {},
     "output_type": "display_data"
    }
   ],
   "source": [
    "# raw data\n",
    "y = np.array([5.2, 4.0, 3.0, 3.8, 4.4, 5.4, 6.6, 6.8])\n",
    "x = np.array([0.0, 0.1, 0.2, 0.3, 0.4, 0.6, 0.8, 1.0])\n",
    "\n",
    "# input matrix\n",
    "A = np.array([x**3, x**2, x ,np.ones(len(x))]).T\n",
    "B = y\n",
    "print (\"A=\\n{}\".format(A))\n",
    "print (\"B={}\".format(B))\n",
    "\n",
    "# least squares\n",
    "C, resid, rank, sigma = linalg.lstsq(A, B)\n",
    "print (\"C={}\".format(C))\n",
    "print (\"resid={}\".format(resid))\n",
    "print (\"rank={}\".format(rank))\n",
    "print (\"sigma={}\".format(sigma))\n",
    "\n",
    "# plot data\n",
    "rx = np.arange(0.0,1.0,0.01,dtype=float)\n",
    "ry = C[0]*rx*rx*rx + C[1]*rx*rx + C[2]*rx + C[3]\n",
    "\n",
    "plt.figure()\n",
    "plt.scatter(x, y, color='pink', marker='s', label='data set')\n",
    "plt.plot(rx, ry, color='cyan', label='fitted data')\n",
    "plt.legend()\n",
    "plt.show()"
   ]
  },
  {
   "cell_type": "markdown",
   "metadata": {},
   "source": [
    "# 固有値・固有ベクトル\n",
    "* Eigenvalue, Eigenvector\n",
    "$$\n",
    "Ax = \\lambda x\n",
    "$$\n",
    "となるような x を A の固有ベクトル。λ を A の固有ベクトルと呼ぶ\n",
    "* 固有方程式\n",
    "```\n",
    "A x = λ x\n",
    "A x = λ I x\n",
    "(A - λ I) x = 0\n",
    "ここで (A - λ I) が逆行列を持つと x が存在しなくなるので、(A - λ I) は逆行列を持たない\n",
    "∴ det (A - λ I) = 0  固有方程式\n",
    "```\n",
    "固有値・固有ベクトルを見つける ⇔ 固有方程式の会を見つける"
   ]
  },
  {
   "cell_type": "code",
   "execution_count": 34,
   "metadata": {},
   "outputs": [
    {
     "name": "stdout",
     "output_type": "stream",
     "text": [
      "固有値 [6.+0.j 2.+0.j]\n",
      "固有ベクトル \n",
      " [[ 0.70710678 -0.70710678]\n",
      " [ 0.70710678  0.70710678]]\n",
      "[4.243 4.243] = (6+0j) x [0.707 0.707]\n",
      "[-1.414  1.414] = (2.0000000000000004+0j) x [-0.707  0.707]\n"
     ]
    }
   ],
   "source": [
    "A = np.array([[4.0,2.0],[2.0,4.0]])\n",
    "w, v = linalg.eig(A)\n",
    "print(\"固有値 {}\".format(w))\n",
    "print(\"固有ベクトル \\n {}\".format(v))\n",
    "\n",
    "np.set_printoptions(precision=3)\n",
    "print(\"{} = {} x {}\".format (A.dot(v[:,0]), w[0], v[:,0]))\n",
    "print(\"{} = {} x {}\".format (A.dot(v[:,1]), w[1], v[:,1]))\n"
   ]
  },
  {
   "cell_type": "code",
   "execution_count": null,
   "metadata": {},
   "outputs": [],
   "source": []
  }
 ],
 "metadata": {
  "kernelspec": {
   "display_name": "Python 3",
   "language": "python",
   "name": "python3"
  },
  "language_info": {
   "codemirror_mode": {
    "name": "ipython",
    "version": 3
   },
   "file_extension": ".py",
   "mimetype": "text/x-python",
   "name": "python",
   "nbconvert_exporter": "python",
   "pygments_lexer": "ipython3",
   "version": "3.6.5"
  }
 },
 "nbformat": 4,
 "nbformat_minor": 2
}
