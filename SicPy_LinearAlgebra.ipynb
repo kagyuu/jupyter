{
 "cells": [
  {
   "cell_type": "code",
   "execution_count": 1,
   "metadata": {},
   "outputs": [],
   "source": [
    "import math\n",
    "import numpy as np\n",
    "from scipy import linalg\n",
    "from matplotlib import pyplot as plt"
   ]
  },
  {
   "cell_type": "markdown",
   "metadata": {},
   "source": [
    "# 逆行列\n",
    "* 行列式を求める linalg.det(A)\n",
    "* 逆行列を求める linalg.inv(A)\n",
    "    * 逆行列を求められない時 LinAlgError が発生する"
   ]
  },
  {
   "cell_type": "code",
   "execution_count": 2,
   "metadata": {
    "scrolled": true
   },
   "outputs": [
    {
     "name": "stdout",
     "output_type": "stream",
     "text": [
      "A=\n",
      "[[1. 2. 3.]\n",
      " [9. 4. 3.]\n",
      " [5. 8. 1.]]\n",
      "det(A) = 148.0\n",
      "inverse A=\n",
      "[[-0.13513514  0.14864865 -0.04054054]\n",
      " [ 0.04054054 -0.09459459  0.16216216]\n",
      " [ 0.35135135  0.01351351 -0.09459459]]\n",
      "A・inverseA=\n",
      "[[ 1.00000000e+00 -2.08166817e-17  5.55111512e-17]\n",
      " [ 2.22044605e-16  1.00000000e+00  1.66533454e-16]\n",
      " [ 5.55111512e-17 -8.15320034e-17  1.00000000e+00]]\n"
     ]
    }
   ],
   "source": [
    "A = np.array([[1,2,3],[9,4,3],[5,8,1]], dtype=float)\n",
    "print(\"A=\\n{}\".format(A))\n",
    "print(\"det(A) = {}\".format(linalg.det(A)))\n",
    "B = linalg.inv(A)\n",
    "print(\"inverse A=\\n{}\".format(B))\n",
    "print(\"A・inverseA=\\n{}\".format(np.dot(A,B)))"
   ]
  },
  {
   "cell_type": "markdown",
   "metadata": {},
   "source": [
    "逆行列が存在しない時に　LinAlgError が発生する仕様は、あまり信用しないほうが良いかも\n",
    "$$\n",
    "\\begin{bmatrix}\n",
    "1 & 2 & 3 \\\\ 4 & 5 & 6 \\\\ 7 & 8 & 9 \n",
    "\\end{bmatrix} \n",
    "$$\n",
    "は、逆行列が存在しないけど、LinAlgError が発生せずに誤った逆行列が計算される。当然 M・inv(M) は I(単位行列) にならない"
   ]
  },
  {
   "cell_type": "code",
   "execution_count": 3,
   "metadata": {},
   "outputs": [
    {
     "name": "stdout",
     "output_type": "stream",
     "text": [
      "M=\n",
      "[[1. 2. 3.]\n",
      " [4. 5. 6.]\n",
      " [7. 8. 9.]]\n",
      "det(M) = 0.0\n",
      "inverse M= // it's wrong invert matrix \n",
      "[[ 3.15251974e+15 -6.30503948e+15  3.15251974e+15]\n",
      " [-6.30503948e+15  1.26100790e+16 -6.30503948e+15]\n",
      " [ 3.15251974e+15 -6.30503948e+15  3.15251974e+15]]\n",
      "** linalg.inv(M) don't throw LinAlgError **\n",
      "M・inverseM= // it's not an identity matrix \n",
      "[[ 0.  0.  0.]\n",
      " [-4.  0.  0.]\n",
      " [-4.  0.  0.]]\n"
     ]
    }
   ],
   "source": [
    "M = np.array([[1,2,3],[4,5,6],[7,8,9]], dtype=float)\n",
    "print(\"M=\\n{}\".format(M))\n",
    "print(\"det(M) = {}\".format(linalg.det(M)))\n",
    "try :\n",
    "    print(\"inverse M= // it's wrong invert matrix \\n{}\".format(linalg.inv(M)))\n",
    "    print(\"** linalg.inv(M) don't throw LinAlgError **\")\n",
    "except LinAlgError as err:\n",
    "    print(err)\n",
    "print(\"M・inverseM= // it's not an identity matrix \\n{}\".format(np.dot(M,linalg.inv(M))))"
   ]
  },
  {
   "cell_type": "markdown",
   "metadata": {},
   "source": [
    "# ノルム\n",
    "* 2次元、３次元の場合は、ベクトルの長さ\n",
    "* 行列の場合はその拡張"
   ]
  },
  {
   "cell_type": "code",
   "execution_count": 4,
   "metadata": {},
   "outputs": [
    {
     "name": "stdout",
     "output_type": "stream",
     "text": [
      "linalg.norm(np.array([2,3]))=3.605551275463989 , sqr(2*2+3*3)=3.605551275463989\n",
      "M=\n",
      "[[1. 2. 3.]\n",
      " [4. 5. 6.]\n",
      " [7. 8. 9.]]\n",
      "linalg.norm(M)=16.881943016134134\n"
     ]
    }
   ],
   "source": [
    "v = np.array([2.0,3.0])\n",
    "print(\"linalg.norm(np.array([2,3]))={} , sqr(2*2+3*3)={}\".format(linalg.norm(v), math.sqrt(2.0*2.0+3.0*3.0)))\n",
    "print(\"M=\\n{}\".format(M))\n",
    "print(\"linalg.norm(M)={}\".format(linalg.norm(M)))"
   ]
  },
  {
   "cell_type": "markdown",
   "metadata": {},
   "source": [
    "# 最小二乗推定 (least-squares problems)\n",
    "* scipy.lstsq(A,B) は、 y = a f(x) + b g(x) + c h(x) + d のとき、最も誤差の少ない a,b,c,d をもとめる\n",
    "\n",
    "A には、入力パラメータを設定する\n",
    "$$\n",
    " \\begin{bmatrix}\n",
    "f(0) & g(0) & h(0) & 1 \\\\\n",
    "f(1) & g(1) & h(1) & 1 \\\\\n",
    "f(2) & g(2) & h(2) & 1 \\\\\n",
    "f(3) & g(3) & h(3) & 1 \\\\\n",
    "\\vdots & \\vdots & \\vdots & \\vdots \\\\\n",
    "f(n) & g(n) & h(n) & 1 \\\\\n",
    "\\end{bmatrix} \n",
    "$$\n",
    "\n",
    "B には、y を設定する\n",
    "$$\n",
    " \\begin{bmatrix} y_0 & y_1 & y_2 & y_3 & \\cdots  & y_n \\end{bmatrix} \n",
    "$$    \n",
    "\n",
    "``\n",
    "(C, resid, rank, sigma) = linalg.lstsq(A, B)\n",
    "``\n",
    "    * C : 最小二乗解 [a b c d]\n",
    "    * resid : 残差の合計\n",
    "    * rank : 係数行列aのランク\n",
    "    * sigma :  標準偏差"
   ]
  },
  {
   "cell_type": "code",
   "execution_count": 5,
   "metadata": {},
   "outputs": [
    {
     "name": "stdout",
     "output_type": "stream",
     "text": [
      "A=\n",
      "[[0.    0.    0.    1.   ]\n",
      " [0.001 0.01  0.1   1.   ]\n",
      " [0.008 0.04  0.2   1.   ]\n",
      " [0.027 0.09  0.3   1.   ]\n",
      " [0.064 0.16  0.4   1.   ]\n",
      " [0.216 0.36  0.6   1.   ]\n",
      " [0.512 0.64  0.8   1.   ]\n",
      " [1.    1.    1.    1.   ]]\n",
      "B=[5.2 4.  3.  3.8 4.4 5.4 6.6 6.8]\n",
      "C=[-22.95848104  39.20132617 -14.58099132   5.07255296]\n",
      "resid=0.5042085946678523\n",
      "rank=4\n",
      "sigma=[3.35026362 1.3730288  0.27820942 0.03761781]\n"
     ]
    },
    {
     "data": {
      "image/png": "[encoded data removed]",
      "text/plain": [
       "<Figure size 432x288 with 1 Axes>"
      ]
     },
     "metadata": {},
     "output_type": "display_data"
    }
   ],
   "source": [
    "# raw data\n",
    "y = np.array([5.2, 4.0, 3.0, 3.8, 4.4, 5.4, 6.6, 6.8])\n",
    "x = np.array([0.0, 0.1, 0.2, 0.3, 0.4, 0.6, 0.8, 1.0])\n",
    "\n",
    "# input matrix\n",
    "A = np.array([x**3, x**2, x ,np.ones(len(x))]).T\n",
    "B = y\n",
    "print (\"A=\\n{}\".format(A))\n",
    "print (\"B={}\".format(B))\n",
    "\n",
    "# least squares\n",
    "C, resid, rank, sigma = linalg.lstsq(A, B)\n",
    "print (\"C={}\".format(C))\n",
    "print (\"resid={}\".format(resid))\n",
    "print (\"rank={}\".format(rank))\n",
    "print (\"sigma={}\".format(sigma))\n",
    "\n",
    "# plot data\n",
    "rx = np.arange(0.0,1.0,0.01,dtype=float)\n",
    "ry = C[0]*rx*rx*rx + C[1]*rx*rx + C[2]*rx + C[3]\n",
    "\n",
    "plt.figure()\n",
    "plt.scatter(x, y, color='pink', marker='s', label='data set')\n",
    "plt.plot(rx, ry, color='cyan', label='fitted data')\n",
    "plt.legend()\n",
    "plt.show()"
   ]
  },
  {
   "cell_type": "markdown",
   "metadata": {},
   "source": [
    "# 固有値・固有ベクトル\n",
    "* Eigenvalue, Eigenvector\n",
    "```\n",
    "A x = λ x\n",
    "```\n",
    "となるような x を A の固有ベクトル。λ を A の固有ベクトルと呼ぶ\n",
    "* 固有方程式\n",
    "```\n",
    "A x = λ x\n",
    "A x = λ I x\n",
    "(A - λ I) x = 0\n",
    "ここで (A - λ I) が逆行列を持つと x が存在しなくなるので、(A - λ I) は逆行列を持たない\n",
    "∴ det (A - λ I) = 0  固有方程式\n",
    "```\n",
    "固有値・固有ベクトルを見つける ⇔ 固有方程式の解を見つける"
   ]
  },
  {
   "cell_type": "code",
   "execution_count": 6,
   "metadata": {},
   "outputs": [
    {
     "name": "stdout",
     "output_type": "stream",
     "text": [
      "分析対象行列 \n",
      " [[4. 2.]\n",
      " [1. 8.]]\n",
      "固有値 [3.55051026+0.j 8.44948974+0.j]\n",
      "固有ベクトル \n",
      " [[-0.97566304 -0.40997761]\n",
      " [ 0.21927526 -0.91209559]]\n",
      "A・v0 = λ0・v0\n",
      "[-3.464  0.779] = (3.5505102572168212+0j) x [-0.976  0.219]\n",
      "A・v1 = λ1・v1\n",
      "[-3.464 -7.707] = (8.449489742783179+0j) x [-0.41  -0.912]\n"
     ]
    }
   ],
   "source": [
    "A = np.array([[4.0,2.0],[1.0,8.0]])\n",
    "w, v = linalg.eig(A)\n",
    "print(\"分析対象行列 \\n {}\".format(A))\n",
    "print(\"固有値 {}\".format(w))\n",
    "print(\"固有ベクトル \\n {}\".format(v))\n",
    "\n",
    "np.set_printoptions(precision=3)\n",
    "print(\"A・v0 = λ0・v0\\n{} = {} x {}\".format (A.dot(v[:,0]), w[0], v[:,0]))\n",
    "print(\"A・v1 = λ1・v1\\n{} = {} x {}\".format (A.dot(v[:,1]), w[1], v[:,1]))\n"
   ]
  },
  {
   "cell_type": "markdown",
   "metadata": {},
   "source": [
    "# 固有値分解\n",
    "* 固有ベクトルを並べたものを V とする\n",
    "* 固有値を対角成分に並べた行列を Λ とする\n",
    "$$\n",
    "\\Lambda = \n",
    " \\begin{bmatrix}\n",
    "\\lambda_{00} & 0 & 0 & 0 \\\\\n",
    "0 & \\lambda_{11} & 0 & 0 \\\\\n",
    "0 & 0 & \\lambda_{22}  & 0 \\\\\n",
    "0 & 0 & 0 & \\lambda_{33} \\\\\n",
    "\\end{bmatrix} \n",
    "$$\n",
    "* 固有値分解とは\n",
    "$$\n",
    "AV=V \\Lambda \\\\\n",
    "A=V \\Lambda V^{-1}\n",
    "$$\n",
    "の形式に A を分解すること\n",
    "* A の n乗の計算が楽になる\n",
    "$$\n",
    "AA=V \\Lambda V^{-1}V \\Lambda V^{-1}=V \\Lambda \\Lambda V^{-1}=V \\Lambda^{2}V^{-1} \\\\\n",
    "\\therefore A^n = V \\Lambda^{n} V^{-1}\n",
    "$$\n",
    "* scipy の固有値分解 (eig) では、左固有ベクトルが変な形で返ってくる\n",
    "    * 右固有ベクトル\n",
    "$$\n",
    "A V_r = V_r \\Lambda\n",
    "$$\n",
    "    * 左固有ベクトル\n",
    "$$\n",
    "A^t V_l = V_l \\Lambda^t\n",
    "$$\n",
    "    * 通常の固有値分解の形にするには\n",
    "$$\n",
    "V_l = V_l.conj().T \\\\\n",
    "A = V_r \\Lambda V_l\n",
    "$$\n"
   ]
  },
  {
   "cell_type": "code",
   "execution_count": 7,
   "metadata": {},
   "outputs": [
    {
     "name": "stdout",
     "output_type": "stream",
     "text": [
      "分解元行列 \n",
      " [[4. 2.]\n",
      " [1. 8.]]\n",
      "----固有値分解結果----\n",
      "左固有ベクトル vl\n",
      " [[-0.912 -0.219]\n",
      " [ 0.41  -0.976]]\n",
      "固有値 Λ \n",
      "[[3.551+0.j 0.   +0.j]\n",
      " [0.   +0.j 8.449+0.j]]\n",
      "右固有ベクトル vr\n",
      " [[-0.976 -0.41 ]\n",
      " [ 0.219 -0.912]]\n",
      "----右固有値の検証----\n",
      "Ａ・vr = vr・Λ\n",
      "Ａ・vr = \n",
      "[[-3.464 -3.464]\n",
      " [ 0.779 -7.707]]\n",
      "vr・Λ = \n",
      "[[-3.464+0.j -3.464+0.j]\n",
      " [ 0.779+0.j -7.707+0.j]]\n",
      "----左固有値の検証 (scipyの計算結果) ----\n",
      "tＡ・vl = vl・tΛ\n",
      "tＡ・vl = \n",
      "[[-3.238 -1.853]\n",
      " [ 1.456 -8.244]]\n",
      "vl・tΛ = \n",
      "[[-3.238+0.j -1.853+0.j]\n",
      " [ 1.456+0.j -8.244+0.j]]\n",
      "----一般的な固有値分解の形式に変換---\n",
      "vl = scipy_vl.conj().T =\n",
      "[[-0.912  0.41 ]\n",
      " [-0.219 -0.976]]\n",
      "Ｉ = vl・vr =\n",
      "[[0.98 0.  ]\n",
      " [0.   0.98]]\n",
      "Ａ = vr・Λ・vl\n",
      "Ａ =\n",
      "[[4. 2.]\n",
      " [1. 8.]]\n",
      "vr・Λ・vl =\n",
      "[[3.919+0.j 1.96 +0.j]\n",
      " [0.98 +0.j 7.838+0.j]]\n"
     ]
    }
   ],
   "source": [
    "A = np.array([[4.0,2.0],[1.0,8.0]])\n",
    "print(\"分解元行列 \\n {}\".format(A))\n",
    "\n",
    "# デフォルトオプションは right=True, left=False\n",
    "w, vl, vr = linalg.eig(A, left=True)\n",
    "\n",
    "m = np.diag(w)\n",
    "# np.diag(vec) で対角成分が vec な対角行列 (diagnosis matrix) を作れる\n",
    "#m = np.zeros(4).reshape(2,2).astype( np.complex )\n",
    "#for cnt in range(w.size) :\n",
    "#    m[cnt,cnt] = w[cnt].astype(np.complex)\n",
    "\n",
    "print(\"----固有値分解結果----\")\n",
    "print(\"左固有ベクトル vl\\n {}\".format(vl))\n",
    "print(\"固有値 Λ \\n{}\".format(m))\n",
    "print(\"右固有ベクトル vr\\n {}\".format(vr))\n",
    "\n",
    "print(\"----右固有値の検証----\")\n",
    "print(\"Ａ・vr = vr・Λ\")\n",
    "print(\"Ａ・vr = \\n{}\".format(A.dot(vr)))\n",
    "print(\"vr・Λ = \\n{}\".format(vr.dot(m)))\n",
    "\n",
    "print(\"----左固有値の検証 (scipyの計算結果) ----\")\n",
    "print(\"tＡ・vl = vl・tΛ\")\n",
    "print(\"tＡ・vl = \\n{}\".format((A.T).dot(vl)))\n",
    "print(\"vl・tΛ = \\n{}\".format(vl.dot(m.T)))\n",
    "\n",
    "print(\"----一般的な固有値分解の形式に変換---\")\n",
    "vl = vl.conj().T\n",
    "print(\"vl = scipy_vl.conj().T =\\n{}\".format(vl))\n",
    "print(\"Ｉ = vl・vr =\\n{}\".format(vl.dot(vr)))\n",
    "\n",
    "print(\"Ａ = vr・Λ・vl\")\n",
    "print(\"Ａ =\\n{}\".format(A))\n",
    "print(\"vr・Λ・vl =\\n{}\".format(vr.dot(m).dot(vl)))"
   ]
  },
  {
   "cell_type": "markdown",
   "metadata": {},
   "source": [
    "# 特異値分解\n",
    "* 固有値は正方行列でしか求められなかった、特異値はそれを一般の行列に拡大したもの\n",
    "* いま、データ系列 X を\n",
    "$$\n",
    "X = \n",
    "\\begin{pmatrix}\n",
    "x_{11} & x_{12}  & \\cdots & x_{1n} \\\\ \n",
    "x_{21} & x_{22} & \\cdots & x_{2n}\\\\ \n",
    "\\vdots & \\vdots & \\ddots & \\vdots \\\\ \n",
    "x_{p1} & x_{p2} & \\cdots & x_{pn} \n",
    "\\end{pmatrix}\n",
    "$$\n",
    "とする。\n",
    "* 特異値分解はこれを\n",
    "$$\n",
    "X = U \\Sigma V^T\n",
    "$$\n",
    "の形式に展開したもの。Σは、特異値を対角成分に並べたもの　\n",
    "$$\n",
    "\\Sigma =\n",
    "\\begin{pmatrix}\n",
    "\\sigma_{11} & 0  & \\cdots & 0 \\\\ \n",
    "0 & \\sigma_{22} & \\cdots & 0 \\\\ \n",
    "\\vdots & \\vdots & \\ddots & \\vdots  \\\\ \n",
    "0 & 0 & \\cdots & \\sigma_{pp} \\\\ \n",
    "0 & 0 & \\cdots & 0  \\\\ \n",
    "0 & 0 & \\cdots & 0 \n",
    "\\end{pmatrix}\n",
    "$$\n",
    "* 特異値分解を使って、元データを新たな系列 Y に写像できる\n",
    "$$\n",
    "Y = U^T X = \\Sigma V^T\n",
    "$$\n",
    "このとき、寄与度の小さい特異値に対する特異ベクトルを削除すると、Yの次数を下げることができる"
   ]
  },
  {
   "cell_type": "code",
   "execution_count": 8,
   "metadata": {},
   "outputs": [
    {
     "name": "stdout",
     "output_type": "stream",
     "text": [
      "分解元行列 \n",
      " [[ 1.  9. 10.]\n",
      " [ 3.  2.  5.]\n",
      " [ 5.  6. 11.]\n",
      " [ 7.  5. 12.]\n",
      " [ 9.  3. 12.]]\n",
      "n=5 p=3\n",
      "----特異値分解結果----\n",
      "左特異ベクトル U\n",
      " [[-0.43  -0.797  0.078  0.148  0.389]\n",
      " [-0.217  0.087  0.882  0.243 -0.329]\n",
      " [-0.476 -0.119 -0.083 -0.724 -0.477]\n",
      " [-0.52   0.171 -0.448  0.605 -0.365]\n",
      " [-0.521  0.56   0.092 -0.166  0.616]]\n",
      "特異値 Σ \n",
      "[[2.830e+01 0.000e+00 0.000e+00]\n",
      " [0.000e+00 7.273e+00 0.000e+00]\n",
      " [0.000e+00 0.000e+00 9.360e-16]\n",
      " [0.000e+00 0.000e+00 0.000e+00]\n",
      " [0.000e+00 0.000e+00 0.000e+00]]\n",
      "右特異ベクトル tV\n",
      " [[-0.416 -0.4   -0.816]\n",
      " [ 0.702 -0.712 -0.009]\n",
      " [-0.577 -0.577  0.577]]\n",
      "----特異値の検算----\n",
      "A = Ｕ・Σ・tＶ = \n",
      "[[ 1.  9. 10.]\n",
      " [ 3.  2.  5.]\n",
      " [ 5.  6. 11.]\n",
      " [ 7.  5. 12.]\n",
      " [ 9.  3. 12.]]\n",
      "----写像 (完全) ----\n",
      "Ｙ＝Ａ・Ｖ = \n",
      "[[-1.218e+01 -5.798e+00 -8.882e-16]\n",
      " [-6.131e+00  6.362e-01 -4.441e-16]\n",
      " [-1.346e+01 -8.630e-01 -8.882e-16]\n",
      " [-1.471e+01  1.244e+00  0.000e+00]\n",
      " [-1.475e+01  4.072e+00 -1.776e-15]]\n",
      "Ｙ・-1Ｖ = \n",
      "[[ 1.  9. 10.]\n",
      " [ 3.  2.  5.]\n",
      " [ 5.  6. 11.]\n",
      " [ 7.  5. 12.]\n",
      " [ 9.  3. 12.]]\n",
      "----次元を下げた写像 (累積特異値99%の指標までを使う) ----\n",
      "σ(0) = 28.303714490199155 (79.55635855675315%)\n",
      "σ(1) = 7.273221161032445 (20.443641443246843%)\n",
      "tV2 = \n",
      "[[-0.416 -0.4   -0.816]\n",
      " [ 0.702 -0.712 -0.009]]\n",
      "Ｙ＝Ａ・Ｖ2 = \n",
      "[[-12.181  -5.798]\n",
      " [ -6.131   0.636]\n",
      " [-13.463  -0.863]\n",
      " [-14.712   1.244]\n",
      " [-14.745   4.072]]\n",
      "Ｙ・-1Ｖ2 = \n",
      "[[ 1.  9. 10.]\n",
      " [ 3.  2.  5.]\n",
      " [ 5.  6. 11.]\n",
      " [ 7.  5. 12.]\n",
      " [ 9.  3. 12.]]\n"
     ]
    }
   ],
   "source": [
    "A = np.array([\n",
    "    [ 1.0,  9.0, 10.0],\n",
    "    [ 3.0,  2.0,  5.0],\n",
    "    [ 5.0,  6.0, 11.0],\n",
    "    [ 7.0,  5.0, 12.0],\n",
    "    [ 9.0,  3.0, 12.0]\n",
    "])\n",
    "print(\"分解元行列 \\n {}\".format(A))\n",
    "\n",
    "u, s, vh = linalg.svd(A)\n",
    "\n",
    "n, p = A.shape\n",
    "print(\"n={} p={}\".format(n,p))\n",
    "m = np.zeros((n, p))\n",
    "m[:p, :p] = np.diag(s)\n",
    "\n",
    "print(\"----特異値分解結果----\")\n",
    "print(\"左特異ベクトル U\\n {}\".format(u))\n",
    "print(\"特異値 Σ \\n{}\".format(m))\n",
    "print(\"右特異ベクトル tV\\n {}\".format(vh))\n",
    "\n",
    "print(\"----特異値の検算----\")\n",
    "print(\"A = Ｕ・Σ・tＶ = \\n{}\".format(u.dot(m).dot(vh)))\n",
    "\n",
    "print(\"----写像 (完全) ----\")\n",
    "print(\"Ｙ＝Ａ・Ｖ = \\n{}\".format(A.dot(vh.T)))\n",
    "print(\"Ｙ・-1Ｖ = \\n{}\".format(A.dot(vh.T).dot(vh)))\n",
    "\n",
    "print(\"----次元を下げた写像 (累積特異値99%の指標までを使う) ----\")\n",
    "s_all = np.sum(s)\n",
    "s_sum = 0.0\n",
    "s_threshold = 0.99\n",
    "s_active_row = 0\n",
    "for k in range(s.size) :\n",
    "    s_sum = s_sum + s[k]\n",
    "    print(\"σ({}) = {} ({}%)\".format(k, s[k],  100.0 * s[k] / s_all))\n",
    "    if (s_sum / s_all > s_threshold) :\n",
    "        s_active_row = k\n",
    "        break\n",
    "\n",
    "vh2 = np.delete(vh, range(s_active_row+1, p), axis=0)\n",
    "print(\"tV2 = \\n{}\".format(vh2))\n",
    "print(\"Ｙ＝Ａ・Ｖ2 = \\n{}\".format(A.dot(vh2.T)))\n",
    "print(\"Ｙ・-1Ｖ2 = \\n{}\".format(A.dot(vh2.T).dot(vh2)))\n"
   ]
  },
  {
   "cell_type": "code",
   "execution_count": null,
   "metadata": {},
   "outputs": [],
   "source": []
  }
 ],
 "metadata": {
  "kernelspec": {
   "display_name": "Python 3",
   "language": "python",
   "name": "python3"
  },
  "language_info": {
   "codemirror_mode": {
    "name": "ipython",
    "version": 3
   },
   "file_extension": ".py",
   "mimetype": "text/x-python",
   "name": "python",
   "nbconvert_exporter": "python",
   "pygments_lexer": "ipython3",
   "version": "3.6.5"
  }
 },
 "nbformat": 4,
 "nbformat_minor": 2
}
