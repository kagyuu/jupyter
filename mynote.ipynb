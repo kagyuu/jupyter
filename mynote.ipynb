{
 "cells": [
  {
   "cell_type": "markdown",
   "metadata": {},
   "source": [
    "# Python の lambda 式\n",
    "\n",
    "* lambda式は無名変数です\n",
    "* \"lambda 引き数 : 処理\" のように書きます\n",
    "* 主に map や filter の引き数に使います\n",
    "\n",
    "![063.png](attachment:063.png)"
   ]
  },
  {
   "cell_type": "code",
   "execution_count": 1,
   "metadata": {},
   "outputs": [
    {
     "name": "stdout",
     "output_type": "stream",
     "text": [
      "[1, 4, 27, 256, 3125]\n"
     ]
    }
   ],
   "source": [
    "lst = map(lambda t: t**t, [1,2,3,4,5])\n",
    "print (list(lst))"
   ]
  },
  {
   "cell_type": "code",
   "execution_count": 2,
   "metadata": {},
   "outputs": [
    {
     "data": {
      "image/png": "[encoded data removed]",
      "text/plain": [
       "<Figure size 432x288 with 1 Axes>"
      ]
     },
     "metadata": {},
     "output_type": "display_data"
    }
   ],
   "source": [
    "%matplotlib inline\n",
    "import matplotlib.pyplot as plt\n",
    "fig = plt.figure()\n",
    "ax = fig.add_subplot(111) # row1 col1 1st subplot\n",
    "dat = [0,1]\n",
    "ax.plot(dat)\n",
    "plt.show()"
   ]
  },
  {
   "cell_type": "markdown",
   "metadata": {},
   "source": [
    "$$\n",
    "\\left( \n",
    "\\begin{array}{c}\n",
    "x' \\\\\n",
    "y' \\\\\n",
    "1\n",
    "\\end{array} \n",
    "\\right) \n",
    "=\n",
    "\\left( \n",
    "\\begin{array}{ccc} \n",
    "m_{11} & m_{21} & d_{x} \\\\\n",
    "m_{12} & m_{22} & d_{y} \\\\\n",
    "0 & 0 & 1\n",
    "\\end{array} \n",
    "\\right)\n",
    "\\left( \n",
    "\\begin{array}{c}\n",
    "x \\\\\n",
    "y \\\\\n",
    "1\n",
    "\\end{array} \n",
    "\\right)\n",
    "$$"
   ]
  },
  {
   "cell_type": "code",
   "execution_count": null,
   "metadata": {},
   "outputs": [],
   "source": []
  }
 ],
 "metadata": {
  "celltoolbar": "Attachments",
  "kernelspec": {
   "display_name": "Python 3",
   "language": "python",
   "name": "python3"
  },
  "language_info": {
   "codemirror_mode": {
    "name": "ipython",
    "version": 3
   },
   "file_extension": ".py",
   "mimetype": "text/x-python",
   "name": "python",
   "nbconvert_exporter": "python",
   "pygments_lexer": "ipython3",
   "version": "3.6.4"
  },
  "widgets": {
   "application/vnd.jupyter.widget-state+json": {
    "state": {},
    "version_major": 2,
    "version_minor": 0
   }
  }
 },
 "nbformat": 4,
 "nbformat_minor": 1
}
