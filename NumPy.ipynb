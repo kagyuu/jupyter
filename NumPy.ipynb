{
 "cells": [
  {
   "cell_type": "markdown",
   "metadata": {},
   "source": [
    "# NumPy\n",
    "* NumPy は、Python の行列演算ライブラリ\n",
    "* Python 標準の List で行列を表現して、for ループで行列演算をすると大変遅い\n",
    "* → 処理制御は Python で書いて、計算自体は C/Fortran で書かれた MKL / BLAST / LAPACK を呼び出せばよくね?\n",
    "* というのが NumPy/SciPy"
   ]
  },
  {
   "cell_type": "code",
   "execution_count": 1,
   "metadata": {},
   "outputs": [],
   "source": [
    "import numpy as np"
   ]
  },
  {
   "cell_type": "markdown",
   "metadata": {},
   "source": [
    "# 行列データ ndarray\n",
    "* numpy では、行列データは ndarray に格納する\n",
    "* ndarray は C/Fortran ライブラリから使える形式で格納されている"
   ]
  },
  {
   "cell_type": "code",
   "execution_count": 2,
   "metadata": {
    "scrolled": true
   },
   "outputs": [
    {
     "name": "stdout",
     "output_type": "stream",
     "text": [
      "<class 'list'>\n",
      "[[1, 2, 3], [4, 5, 6], [7, 8, 9]]\n",
      "<class 'numpy.ndarray'>\n",
      "[[1 2 3]\n",
      " [4 5 6]\n",
      " [7 8 9]]\n"
     ]
    }
   ],
   "source": [
    "lst = [[1,2,3],[4,5,6],[7,8,9]]\n",
    "ndary = np.array(lst)\n",
    "print ( type(lst) )\n",
    "print ( lst )\n",
    "print ( type(ndary) )\n",
    "print ( ndary )"
   ]
  },
  {
   "cell_type": "markdown",
   "metadata": {},
   "source": [
    "# ndarray ベクトル同士の演算\n",
    "* ベクトルの掛け算 a・b は dot 関数を使う\n",
    "* 内積 np.inner(a,b) → ベクトルa を b に投影した時の長さ。a の b 成分。2次元なら |a|cosθ (θは a と b が成す角) \n",
    "* 外積 np.cross(a,b) → a と b に直行するベクトルを求める\n",
    "* テンソル積 np.outer(a,b) → a と b の要素を順列組み合わせでかけ合わせた行列"
   ]
  },
  {
   "cell_type": "code",
   "execution_count": 3,
   "metadata": {},
   "outputs": [
    {
     "name": "stdout",
     "output_type": "stream",
     "text": [
      "a.dot(b) = \t-6\n",
      "\n",
      "np.dot(a,b) = \t-6\n",
      "\n",
      "np.inner(a,b) = \t-6\n",
      "\n",
      "np.cross(a,b) = \t[ 4  4 -4]\n",
      "\n",
      "np.outer(a,b) = \n",
      "[[ 1 -2 -1]\n",
      " [ 2 -4 -2]\n",
      " [ 3 -6 -3]]\n",
      "\n"
     ]
    }
   ],
   "source": [
    "a = np.array([1,2,3])\n",
    "b = np.array([1,-2,-1])\n",
    "print (\"a.dot(b) = \\t{}\\n\".format(a.dot(b)))\n",
    "print (\"np.dot(a,b) = \\t{}\\n\".format(np.dot(a,b)))\n",
    "print (\"np.inner(a,b) = \\t{}\\n\".format(np.inner(a,b)))\n",
    "print (\"np.cross(a,b) = \\t{}\\n\".format(np.cross(a,b)))\n",
    "print (\"np.outer(a,b) = \\n{}\\n\".format(np.outer(a,b)))\n"
   ]
  },
  {
   "cell_type": "markdown",
   "metadata": {},
   "source": [
    "# ndarray 行列同士の演算\n",
    "* \\+ \\- \\* 演算子が ndarray 向けに overload されている\n",
    "* \\* 演算子は、アダマール積 A⦿B　(i行ｊ列の要素同士の掛け算)\n",
    "    * C = A \\* B\n",
    "* 行列の掛け算 A・B は、dot 関数を使う\n",
    "    * C = A.dot(B)\n",
    "    * C = np.dot(A,B)\n",
    "* 転置は A.T\n",
    "* == は要素同士を比較した　bool 型の行列を返す\n",
    "* 行列全体の比較には np.array_equal 関数を使う"
   ]
  },
  {
   "cell_type": "code",
   "execution_count": 14,
   "metadata": {},
   "outputs": [
    {
     "name": "stdout",
     "output_type": "stream",
     "text": [
      "mA + mB = \n",
      "[[ 3  7]\n",
      " [11 15]]\n",
      "\n",
      "mA - mB = \n",
      "[[-1 -1]\n",
      " [-1 -1]]\n",
      "\n",
      "3 * mA = \n",
      "[[ 3  9]\n",
      " [15 21]]\n",
      "\n",
      "mA * mB = \n",
      "[[ 2 12]\n",
      " [30 56]]\n",
      "\n",
      "mA.dot(mB) = \n",
      "[[20 28]\n",
      " [52 76]]\n",
      "\n",
      "np.dot(A,B) = \n",
      "[[20 28]\n",
      " [52 76]]\n",
      "\n",
      "mA == mB = \n",
      "[[False False]\n",
      " [False False]]\n",
      "\n",
      "np.array_equal(mA, mB) = \n",
      "False\n",
      "\n",
      "T = \n",
      "[[1 2 3]\n",
      " [4 5 6]]\n",
      "mT = \n",
      "[[1 4]\n",
      " [2 5]\n",
      " [3 6]]\n"
     ]
    }
   ],
   "source": [
    "mA = np.array([\n",
    "    [1,3],\n",
    "    [5,7]\n",
    "])\n",
    "mB = np.array([\n",
    "    [2,4],\n",
    "    [6,8]\n",
    "])\n",
    "print (\"mA + mB = \\n{}\\n\".format(mA + mB))\n",
    "print (\"mA - mB = \\n{}\\n\".format(mA - mB))\n",
    "print (\"3 * mA = \\n{}\\n\".format(3 * mA))\n",
    "print (\"mA * mB = \\n{}\\n\".format(mA * mB))\n",
    "print (\"mA.dot(mB) = \\n{}\\n\".format(mA.dot(mB)))\n",
    "print (\"np.dot(A,B) = \\n{}\\n\".format(np.dot(mA,mB)))\n",
    "print (\"mA == mB = \\n{}\\n\".format(mA == mB))\n",
    "print (\"np.array_equal(mA, mB) = \\n{}\\n\".format(np.array_equal(mA, mB)))\n",
    "\n",
    "m = np.array([[1,2,3],[4,5,6]])\n",
    "print (\"m = \\n{}\".format(m))\n",
    "print (\"mT = \\n{}\".format(m.T))\n"
   ]
  },
  {
   "cell_type": "markdown",
   "metadata": {},
   "source": [
    "# ndarray の要素へのアクセス\n",
    "* python の配列の添字は 0 はじまり\n",
    "* ｎ次元配列の場合は、タプル (数字の組) で指定する\n",
    "* 配列の一部を取り出すこともできる vec[start:end:step]"
   ]
  },
  {
   "cell_type": "code",
   "execution_count": 5,
   "metadata": {},
   "outputs": [
    {
     "name": "stdout",
     "output_type": "stream",
     "text": [
      "vec= [0 1 2 3 4 5 6 7 8 9]\n",
      "vec[2] = 2\n",
      "vec[:7] = [0 1 2 3 4 5 6]\n",
      "vec[3:] = [3 4 5 6 7 8 9]\n",
      "vec[3:7] = [3 4 5 6]\n",
      "vec[3:7:2] = [3 5]\n",
      "\n",
      "mat=\n",
      "[[1 2 3]\n",
      " [4 5 6]\n",
      " [7 8 9]]\n",
      "mat[1]=[4 5 6]\n",
      "mat[(0,0)]=1\n",
      "mat[(0,2)]=3\n",
      "mat[(2,0)]=7\n"
     ]
    }
   ],
   "source": [
    "vec = np.array([0,1,2,3,4,5,6,7,8,9])\n",
    "print (\"vec= {}\".format(vec))\n",
    "print (\"vec[2] = {}\".format(vec[2]))\n",
    "print (\"vec[:7] = {}\".format(vec[:7]))\n",
    "print (\"vec[3:] = {}\".format(vec[3:]))\n",
    "print (\"vec[3:7] = {}\".format(vec[3:7]))\n",
    "print (\"vec[3:7:2] = {}\".format(vec[3:7:2]))\n",
    "print(\"\")\n",
    "mat = np.array([[1,2,3],[4,5,6],[7,8,9]])\n",
    "print (\"mat=\\n{}\".format(mat))\n",
    "print (\"mat[1]={}\".format(mat[1]))\n",
    "print (\"mat[(0,0)]={}\".format(mat[(0,0)]))\n",
    "print (\"mat[(0,2)]={}\".format(mat[(0,2)]))\n",
    "print (\"mat[(2,0)]={}\".format(mat[(2,0)]))\n",
    "\n"
   ]
  },
  {
   "cell_type": "markdown",
   "metadata": {},
   "source": [
    "# ndarray を作成する\n",
    "* 0行列や単位行列を作成する関数がある (np.zeros(), np.eye())\n",
    "* 左上から 1,2,3,4... とやりたかったり、乱数の行列を作りたいときには、一旦 Vector (1次元) を作って、reshape(行,列) する\n",
    "* とにかく、行列を格納するメモリ空間だけ確保したいときには np.empty([r,c]) を使う。★ 画像を処理するために巨大なメモリ空間を確保したいときなどにつかう　(0で初期化する時間がもったいない) ★"
   ]
  },
  {
   "cell_type": "code",
   "execution_count": 6,
   "metadata": {},
   "outputs": [
    {
     "name": "stdout",
     "output_type": "stream",
     "text": [
      "要素が1〜10のVector \n",
      "[0 1 2 3 4 5 6 7 8 9]\n",
      "要素が1〜10で2おきのVector \n",
      "[1 3 5 7 9]\n",
      "要素が0〜１を5等分するVector \n",
      "[0.   0.25 0.5  0.75 1.  ]\n",
      "要素が0〜１(1を含まず)を5等分するVector \n",
      "[0.  0.2 0.4 0.6 0.8]\n",
      "要素がすべて1の3x3行列 \n",
      "[[1. 1. 1.]\n",
      " [1. 1. 1.]\n",
      " [1. 1. 1.]]\n",
      "要素がすべて0の3x3行列 \n",
      "[[0. 0. 0.]\n",
      " [0. 0. 0.]\n",
      " [0. 0. 0.]]\n",
      "3行3列の単位行列 \n",
      "[[1. 0. 0.]\n",
      " [0. 1. 0.]\n",
      " [0. 0. 1.]]\n",
      "要素が乱数のVector \n",
      "[0.95897797 0.63709072 0.93826254 0.22400341 0.57412257 0.42290777\n",
      " 0.92176379 0.62838893 0.51164719 0.60957848 0.28688795 0.85618954]\n",
      "要素が乱数の3x4行列 \n",
      "[[0.7853633  0.57277131 0.96443818 0.75510072]\n",
      " [0.86808787 0.56703276 0.09116504 0.72112304]\n",
      " [0.38666512 0.76037714 0.96307498 0.58883631]]\n",
      "メモリ空間だけ確保したいとき(内容はmallocしたそのまま) \n",
      "[[0.0e+000 4.9e-324 9.9e-324 1.5e-323 2.0e-323]\n",
      " [2.5e-323 3.0e-323 3.5e-323 4.0e-323 4.4e-323]]\n"
     ]
    }
   ],
   "source": [
    "print( \"要素が1〜10のVector \\n{}\".format(np.arange(10)) )\n",
    "print( \"要素が1〜10で2おきのVector \\n{}\".format(np.arange(1, 10, 2)) )\n",
    "print( \"要素が0〜１を5等分するVector \\n{}\".format(np.linspace(0, 1, 5)) )\n",
    "print( \"要素が0〜１(1を含まず)を5等分するVector \\n{}\".format(np.linspace(0, 1, 5, endpoint=False)) )\n",
    "print( \"要素がすべて1の3x3行列 \\n{}\".format(np.ones((3, 3))) )\n",
    "print( \"要素がすべて0の3x3行列 \\n{}\".format(np.zeros((3, 3))) )\n",
    "print( \"3行3列の単位行列 \\n{}\".format(np.eye(3)) )\n",
    "print( \"要素が乱数のVector \\n{}\".format(np.random.rand(12)) )\n",
    "print( \"要素が乱数の3x4行列 \\n{}\".format(np.random.rand(12).reshape(3,4)) )\n",
    "print( \"メモリ空間だけ確保したいとき(内容はmallocしたそのまま) \\n{}\".format(np.empty([2,5])))"
   ]
  },
  {
   "cell_type": "markdown",
   "metadata": {},
   "source": [
    "# ndarray 自身の属性\n",
    "\n",
    "* ndarray.flags : メモリへの各情景式\n",
    "* ndarray.ndim : 次元\n",
    "* ndarray.size : 要素数\n",
    "* ndarray.shape : 形状(行数と列数のタプル)\n",
    "* ndarray.dtype : 内部の数値型\n",
    "* ndarray を作るときに、数値型を指定することもできる → np.array([[1,2],[3,4]], dtype=np.float)\n",
    "  * bool(真偽), int, unit(unsigned int), float(浮動小数), complex(複素数)\n",
    "  * int8 のようにビット数も指定できるけど、それは処理系に負かせたほうが良いでしょう\n",
    "  * 型は np パッケージの定数を使ってもいいし、即値でもいい (結局同じことになる)\n",
    "* 行列内部のデータ型の変換は matrix.astype( np.int ) のようにやるけど、これは matrix を変更しないことに注意。あたらしい ndarray が作られる\n"
   ]
  },
  {
   "cell_type": "code",
   "execution_count": 7,
   "metadata": {},
   "outputs": [
    {
     "name": "stdout",
     "output_type": "stream",
     "text": [
      "[[1.+1.j 0.+0.j 0.+0.j]\n",
      " [0.+0.j 0.+0.j 2.+2.j]]\n",
      "flags :\n",
      "   C_CONTIGUOUS : True\n",
      "  F_CONTIGUOUS : False\n",
      "  OWNDATA : True\n",
      "  WRITEABLE : True\n",
      "  ALIGNED : True\n",
      "  WRITEBACKIFCOPY : False\n",
      "  UPDATEIFCOPY : False\n",
      "ndim : 2\n",
      "size : 6\n",
      "shape : (2, 3)\n",
      "dtype : complex128\n",
      "[[1. 2.]\n",
      " [3. 4.]]\n",
      "dtype : float64\n",
      "[[1 2]\n",
      " [3 4]]\n",
      "dtype : int64\n"
     ]
    }
   ],
   "source": [
    "complex = np.array([[1.0+1.0j,0,0],[0,0,2.0+2.0j]])\n",
    "print (complex)\n",
    "print (\"flags :\\n {}\".format(complex.flags))\n",
    "print (\"ndim : {}\".format(complex.ndim))\n",
    "print (\"size : {}\".format(complex.size))\n",
    "print (\"shape : {}\".format(complex.shape))\n",
    "print (\"dtype : {}\".format(complex.dtype))\n",
    "\n",
    "matrix = np.array([[1,2],[3,4]], dtype=np.float)\n",
    "print (matrix)\n",
    "print (\"dtype : {}\".format(matrix.dtype))\n",
    "\n",
    "matrix2 = matrix.astype( np.int )\n",
    "print (matrix2)\n",
    "print (\"dtype : {}\".format(matrix2.dtype))\n"
   ]
  },
  {
   "cell_type": "markdown",
   "metadata": {},
   "source": [
    "# 線形代数の処理\n",
    "* numpy.linalg 配下に、逆行列、方程式の解を求める関数が用意されている\n",
    "* numpy.linalg にある関数は、すべて scipy.linalg にあり、scipy.linalg の方が速いので、行列の線形代数処理は scipy.linalg を使う"
   ]
  },
  {
   "cell_type": "markdown",
   "metadata": {},
   "source": [
    "# データの格納・読み出し\n",
    "* numpy.io があるけど pandas を使うのが吉\n",
    "* 画像を ndarray に読み出すこともできる"
   ]
  }
 ],
 "metadata": {
  "kernelspec": {
   "display_name": "Python 3",
   "language": "python",
   "name": "python3"
  },
  "language_info": {
   "codemirror_mode": {
    "name": "ipython",
    "version": 3
   },
   "file_extension": ".py",
   "mimetype": "text/x-python",
   "name": "python",
   "nbconvert_exporter": "python",
   "pygments_lexer": "ipython3",
   "version": "3.6.5"
  }
 },
 "nbformat": 4,
 "nbformat_minor": 2
}
