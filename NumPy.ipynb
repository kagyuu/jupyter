{
 "cells": [
  {
   "cell_type": "markdown",
   "metadata": {},
   "source": [
    "# NumPy\n",
    "* NumPy は、Python の行列演算ライブラリ\n",
    "* Python 標準の List で行列を表現して、for ループで行列演算をすると大変遅い\n",
    "* → 処理制御は Python で書いて、計算自体は C/Fortran で書かれた MKL / BLAST / LAPACK を呼び出せばよくね?\n",
    "* というのが NumPy/SciPy"
   ]
  },
  {
   "cell_type": "code",
   "execution_count": 1,
   "metadata": {},
   "outputs": [],
   "source": [
    "import numpy as np"
   ]
  },
  {
   "cell_type": "markdown",
   "metadata": {},
   "source": [
    "# 行列データ ndarray\n",
    "* numpy では、行列データは ndarray に格納する\n",
    "* ndarray は C/Fortran ライブラリから使える形式で格納されている"
   ]
  },
  {
   "cell_type": "code",
   "execution_count": 2,
   "metadata": {},
   "outputs": [
    {
     "name": "stdout",
     "output_type": "stream",
     "text": [
      "<class 'list'>\n",
      "[[1, 2, 3], [4, 5, 6], [7, 8, 9]]\n",
      "<class 'numpy.ndarray'>\n",
      "[[1 2 3]\n",
      " [4 5 6]\n",
      " [7 8 9]]\n"
     ]
    }
   ],
   "source": [
    "lst = [[1,2,3],[4,5,6],[7,8,9]]\n",
    "ndary = np.array(lst)\n",
    "print ( type(lst) )\n",
    "print ( lst )\n",
    "print ( type(ndary) )\n",
    "print ( ndary )"
   ]
  },
  {
   "cell_type": "markdown",
   "metadata": {},
   "source": [
    "# ndarray 同士の演算\n",
    "* \\+ \\- \\* 演算子が ndarray 向けに overload されている\n",
    "* \\* 演算子は、アダマール積 A⦿B　(i行ｊ列の要素同士の掛け算)\n",
    "    * C = A \\* B\n",
    "* 行列の掛け算 A・B は、dot 関数を使う\n",
    "    * C = A.dot(B)\n",
    "    * C = np.dot(A,B)"
   ]
  },
  {
   "cell_type": "code",
   "execution_count": 3,
   "metadata": {},
   "outputs": [
    {
     "name": "stdout",
     "output_type": "stream",
     "text": [
      "mA + mB = \n",
      "[[ 3  7]\n",
      " [11 15]]\n",
      "\n",
      "mA - mB = \n",
      "[[-1 -1]\n",
      " [-1 -1]]\n",
      "\n",
      "3 * mA = \n",
      "[[ 3  9]\n",
      " [15 21]]\n",
      "\n",
      "mA * mB = \n",
      "[[ 2 12]\n",
      " [30 56]]\n",
      "\n",
      "mA.dot(mB) = \n",
      "[[20 28]\n",
      " [52 76]]\n",
      "\n",
      "np.dot(A,B) = \n",
      "[[20 28]\n",
      " [52 76]]\n",
      "\n"
     ]
    }
   ],
   "source": [
    "mA = np.array([\n",
    "    [1,3],\n",
    "    [5,7]\n",
    "])\n",
    "mB = np.array([\n",
    "    [2,4],\n",
    "    [6,8]\n",
    "])\n",
    "print (\"mA + mB = \\n{}\\n\".format(mA + mB))\n",
    "print (\"mA - mB = \\n{}\\n\".format(mA - mB))\n",
    "print (\"3 * mA = \\n{}\\n\".format(3 * mA))\n",
    "print (\"mA * mB = \\n{}\\n\".format(mA * mB))\n",
    "print (\"mA.dot(mB) = \\n{}\\n\".format(mA.dot(mB)))\n",
    "print (\"np.dot(A,B) = \\n{}\\n\".format(np.dot(mA,mB)))\n"
   ]
  },
  {
   "cell_type": "code",
   "execution_count": null,
   "metadata": {},
   "outputs": [],
   "source": []
  }
 ],
 "metadata": {
  "kernelspec": {
   "display_name": "Python 3",
   "language": "python",
   "name": "python3"
  },
  "language_info": {
   "codemirror_mode": {
    "name": "ipython",
    "version": 3
   },
   "file_extension": ".py",
   "mimetype": "text/x-python",
   "name": "python",
   "nbconvert_exporter": "python",
   "pygments_lexer": "ipython3",
   "version": "3.6.5"
  }
 },
 "nbformat": 4,
 "nbformat_minor": 2
}
